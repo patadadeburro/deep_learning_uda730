{
 "cells": [
  {
   "cell_type": "markdown",
   "metadata": {},
   "source": [
    "<style>\n",
    "table, th, td {\n",
    "    border: 1px solid black;\n",
    "}\n",
    "</style>\n",
    "\n",
    "<table style=\"width:100%\" >\n",
    "\n",
    "  <tr >\n",
    "    <th align=\"center\">Tensorflow</th>\n",
    "    <th align=\"center\">python</th>\n",
    "    <th align=\"center\">google</th>\n",
    "    <th align=\"center\">udacity</th>\n",
    "  </tr>\n",
    "\n",
    "  <tr>\n",
    "    <td>\n",
    "      <img src=\"https://upload.wikimedia.org/wikipedia/commons/a/a4/TensorFlowLogo.png\" height=\"200\" width=\"200\" />\n",
    "    </td>\n",
    "    <td>\n",
    "      <img src=\"http://spark-mooc.github.io/web-assets/images/python-logo-master-v3-TM-flattened_small.png\" height=\"200\" width=\"200\" />\n",
    "    </td>\n",
    "    <td>\n",
    "      <img src=\"https://www.blog.google/static/blog/images/google-200x200.7714256da16f.png\" height=\"200\" width=\"200\" />\n",
    "    </td>\n",
    "    <td>\n",
    "      <img src=\"https://d125fmws0bore1.cloudfront.net/assets/udacity_share-317a7f82552763598a5c91e1550b7cd83663ce02d6d475d703e25a873cd3b574.png\" height=\"200\" width=\"200\" />\n",
    "    </td>\n",
    "  </tr>\n",
    "</table>"
   ]
  },
  {
   "cell_type": "markdown",
   "metadata": {},
   "source": [
    "# Deep Learning - my Notes.\n",
    "## Arturo Alatriste Trujillo"
   ]
  },
  {
   "cell_type": "code",
   "execution_count": 1,
   "metadata": {},
   "outputs": [
    {
     "data": {
      "text/plain": [
       "'C:\\\\Users\\\\a.alatriste.trujillo\\\\dl_udacity'"
      ]
     },
     "execution_count": 1,
     "metadata": {},
     "output_type": "execute_result"
    }
   ],
   "source": [
    "%pwd"
   ]
  },
  {
   "cell_type": "markdown",
   "metadata": {},
   "source": [
    "# Deep Learning\n",
    "## Assignment 3\n",
    "\n",
    "Previously in 2_fullyconnected.ipynb, you trained a logistic regression and a neural network model.\n",
    "The goal of this assignment is to explore regularization techniques."
   ]
  },
  {
   "cell_type": "code",
   "execution_count": 1,
   "metadata": {
    "collapsed": true
   },
   "outputs": [],
   "source": [
    "# These are all the modules we'll be using later. Make sure you can import them\n",
    "# before proceeding further.\n",
    "from __future__   import print_function\n",
    "import numpy      as np\n",
    "import tensorflow as tf\n",
    "from six.moves    import cPickle as pickle"
   ]
  },
  {
   "cell_type": "markdown",
   "metadata": {},
   "source": [
    "First reload the data we generated in 1_notmnist.ipynb."
   ]
  },
  {
   "cell_type": "code",
   "execution_count": 2,
   "metadata": {},
   "outputs": [
    {
     "name": "stdout",
     "output_type": "stream",
     "text": [
      "Training set (200000, 28, 28) (200000,)\n",
      "Validation set (10000, 28, 28) (10000,)\n",
      "Test set (10000, 28, 28) (10000,)\n"
     ]
    }
   ],
   "source": [
    "pickle_file = 'notMNIST.pickle'\n",
    "\n",
    "with open(pickle_file, 'rb') as f:\n",
    "  save = pickle.load(f)\n",
    "  train_dataset = save['train_dataset']\n",
    "  train_labels  = save['train_labels']\n",
    "  valid_dataset = save['valid_dataset']\n",
    "  valid_labels  = save['valid_labels']\n",
    "  test_dataset  = save['test_dataset']\n",
    "  test_labels   = save['test_labels']\n",
    "  del save  # hint to help gc free up memory\n",
    "  print( 'Training set'  , train_dataset.shape, train_labels.shape )\n",
    "  print( 'Validation set', valid_dataset.shape, valid_labels.shape )\n",
    "  print( 'Test set'      , test_dataset.shape , test_labels.shape  )"
   ]
  },
  {
   "cell_type": "markdown",
   "metadata": {},
   "source": [
    "Reformat into a shape that's more adapted to the models we're going to train:\n",
    "data as a flat matrix,\n",
    "labels as float 1-hot encodings."
   ]
  },
  {
   "cell_type": "code",
   "execution_count": 3,
   "metadata": {},
   "outputs": [
    {
     "name": "stdout",
     "output_type": "stream",
     "text": [
      "Training set (200000, 784) (200000, 10)\n",
      "Validation set (10000, 784) (10000, 10)\n",
      "Test set (10000, 784) (10000, 10)\n"
     ]
    }
   ],
   "source": [
    "# images of 28 x 28 pixels\n",
    "image_size = 28\n",
    "\n",
    "# we want to classify bewtween 10 letters: a, b, c, d, e, f, g, h, i, j.\n",
    "num_labels = 10\n",
    "\n",
    "def reformat(dataset, labels):\n",
    "  dataset = dataset.reshape((-1, image_size * image_size)).astype(np.float32)\n",
    "  # Map 1 to [0.0, 1.0, 0.0 ...], 2 to [0.0, 0.0, 1.0 ...]\n",
    "  labels = (np.arange(num_labels) == labels[:,None]).astype(np.float32)\n",
    "  return dataset, labels\n",
    "\n",
    "train_dataset, train_labels = reformat( train_dataset, train_labels )\n",
    "valid_dataset, valid_labels = reformat( valid_dataset, valid_labels )\n",
    "test_dataset , test_labels  = reformat( test_dataset , test_labels  )\n",
    "\n",
    "print( 'Training set'  , train_dataset.shape, train_labels.shape )\n",
    "print( 'Validation set', valid_dataset.shape, valid_labels.shape )\n",
    "print( 'Test set'      , test_dataset.shape, test_labels.shape   )"
   ]
  },
  {
   "cell_type": "code",
   "execution_count": 4,
   "metadata": {
    "collapsed": true
   },
   "outputs": [],
   "source": [
    "def accuracy(predictions, labels):\n",
    "  return (100.0 * np.sum( np.argmax(predictions, 1) == np.argmax(labels, 1) )\n",
    "          / predictions.shape[0])"
   ]
  },
  {
   "cell_type": "markdown",
   "metadata": {},
   "source": [
    "---"
   ]
  },
  {
   "cell_type": "markdown",
   "metadata": {},
   "source": [
    "### Problem 1\n",
    "Introduce and tune L2 regularization for both logistic and neural network models. Remember that L2 amounts to adding a penalty on the norm of the weights to the loss. In TensorFlow, you can compute the L2 loss for a tensor t using ```nn.l2_loss(t)```. The right amount of regularization should improve your validation / test accuracy."
   ]
  },
  {
   "cell_type": "markdown",
   "metadata": {},
   "source": [
    "<img src=\"img/dnn12.png\" height=\"600\" width=\"600\" />"
   ]
  },
  {
   "cell_type": "markdown",
   "metadata": {
    "collapsed": true
   },
   "source": [
    "#### logistic model - graph"
   ]
  },
  {
   "cell_type": "code",
   "execution_count": 6,
   "metadata": {
    "collapsed": true
   },
   "outputs": [],
   "source": [
    "# This is to expedite the process \n",
    "train_subset = 10000\n",
    "\n",
    "# This is a good beta value to start with\n",
    "beta = 0.01\n",
    "\n",
    "graph = tf.Graph()\n",
    "with graph.as_default():\n",
    "\n",
    "    # Input data.\n",
    "    # They're all constants.\n",
    "    tf_train_dataset = tf.constant( train_dataset[:train_subset, :] )\n",
    "    tf_train_labels  = tf.constant( train_labels [:train_subset]    )\n",
    "    tf_valid_dataset = tf.constant( valid_dataset                   )\n",
    "    tf_test_dataset  = tf.constant( test_dataset                    )\n",
    "\n",
    "\n",
    "    # Variables    \n",
    "    # They are variables we want to update and optimize.\n",
    "    weights          = tf.Variable( tf.truncated_normal( [image_size * image_size, num_labels]))\n",
    "    biases           = tf.Variable( tf.zeros( [num_labels] ) )\n",
    " \n",
    "    # Training computation.\n",
    "    logits           = tf.matmul(tf_train_dataset, weights) + biases \n",
    "    # Original loss function\n",
    "    loss             = tf.reduce_mean( \n",
    "        tf.nn.softmax_cross_entropy_with_logits( labels=tf_train_labels, logits=logits) )\n",
    "    \n",
    "    # Loss function using L2 Regularization\n",
    "    regularizer      = tf.nn.l2_loss(weights)\n",
    "    loss             = tf.reduce_mean(loss + beta * regularizer)\n",
    "    \n",
    "    # Optimizer.\n",
    "    optimizer = tf.train.GradientDescentOptimizer(0.5).minimize(loss)\n",
    "  \n",
    "    # Predictions for the training, validation, and test data.\n",
    "    train_prediction = tf.nn.softmax( logits                                          )\n",
    "    valid_prediction = tf.nn.softmax( tf.matmul( tf_valid_dataset, weights ) + biases )\n",
    "    test_prediction  = tf.nn.softmax( tf.matmul( tf_test_dataset , weights ) + biases )"
   ]
  },
  {
   "cell_type": "markdown",
   "metadata": {},
   "source": [
    "#### logistic model - run"
   ]
  },
  {
   "cell_type": "code",
   "execution_count": 7,
   "metadata": {},
   "outputs": [
    {
     "name": "stdout",
     "output_type": "stream",
     "text": [
      "WARNING:tensorflow:From C:\\aat\\Anaconda3\\lib\\site-packages\\tensorflow\\python\\util\\tf_should_use.py:175: initialize_all_variables (from tensorflow.python.ops.variables) is deprecated and will be removed after 2017-03-02.\n",
      "Instructions for updating:\n",
      "Use `tf.global_variables_initializer` instead.\n",
      "Initialized\n",
      "Loss at step 0: 46.91868591308594\n",
      "Training accuracy: 11.2\n",
      "Validation accuracy: 14.5\n",
      "Loss at step 100: 11.79316520690918\n",
      "Training accuracy: 74.0\n",
      "Validation accuracy: 72.1\n",
      "Loss at step 200: 4.457164764404297\n",
      "Training accuracy: 79.0\n",
      "Validation accuracy: 76.7\n",
      "Loss at step 300: 1.9675986766815186\n",
      "Training accuracy: 82.3\n",
      "Validation accuracy: 79.4\n",
      "Loss at step 400: 1.1236677169799805\n",
      "Training accuracy: 84.0\n",
      "Validation accuracy: 81.0\n",
      "Loss at step 500: 0.8340555429458618\n",
      "Training accuracy: 84.5\n",
      "Validation accuracy: 81.6\n",
      "Loss at step 600: 0.7334233522415161\n",
      "Training accuracy: 84.6\n",
      "Validation accuracy: 81.9\n",
      "Loss at step 700: 0.6981140375137329\n",
      "Training accuracy: 84.7\n",
      "Validation accuracy: 82.0\n",
      "Loss at step 800: 0.6856237053871155\n",
      "Training accuracy: 84.7\n",
      "Validation accuracy: 82.1\n",
      "Test accuracy: 88.9\n"
     ]
    }
   ],
   "source": [
    "num_steps = 801\n",
    "\n",
    "def accuracy(predictions, labels):\n",
    "    return (100.0 * np.sum(np.argmax(predictions, 1) == np.argmax(labels, 1))\n",
    "            / predictions.shape[0])\n",
    "\n",
    "with tf.Session(graph=graph) as session:\n",
    "    # This is a one-time operation which ensures the parameters get initialized as\n",
    "    # we described in the graph: random weights for the matrix, zeros for the\n",
    "    # biases. \n",
    "    tf.initialize_all_variables().run()\n",
    "    print('Initialized')\n",
    "    for step in range(num_steps):\n",
    "    # Run the computations. We tell .run() that we want to run the optimizer,\n",
    "    # and get the loss value and the training predictions returned as numpy\n",
    "    # arrays.\n",
    "        _, l, predictions = session.run([optimizer, loss, train_prediction])\n",
    "        if (step % 100 == 0):\n",
    "            print('Loss at step {}: {}'.format(step, l))\n",
    "            print('Training accuracy: {:.1f}'.format(accuracy(predictions, \n",
    "                                                         train_labels[:train_subset, :])))\n",
    "            # Calling .eval() on valid_prediction is basically like calling run(), but\n",
    "            # just to get that one numpy array. Note that it recomputes all its graph\n",
    "            # dependencies.\n",
    "            \n",
    "            # You don't have to do .eval above because we already ran the session for the\n",
    "            # train_prediction\n",
    "            print('Validation accuracy: {:.1f}'.format(accuracy(valid_prediction.eval(), \n",
    "                                                           valid_labels)))\n",
    "    print('Test accuracy: {:.1f}'.format(accuracy(test_prediction.eval(), test_labels))) "
   ]
  },
  {
   "cell_type": "markdown",
   "metadata": {},
   "source": [
    "#### Neural Network with L2 Regularization\n",
    "\n",
    "* 1 Hidden Layer using RELUs"
   ]
  },
  {
   "cell_type": "code",
   "execution_count": 8,
   "metadata": {
    "collapsed": true
   },
   "outputs": [],
   "source": [
    "num_nodes= 1024\n",
    "batch_size = 128\n",
    "beta = 0.01\n",
    "\n",
    "graph = tf.Graph()\n",
    "with graph.as_default():\n",
    "\n",
    "    # Input data. For the training data, we use a placeholder that will be fed\n",
    "    # at run time with a training minibatch.\n",
    "    tf_train_dataset = tf.placeholder(tf.float32, shape=(batch_size, image_size * image_size))\n",
    "    tf_train_labels  = tf.placeholder(tf.float32, shape=(batch_size, num_labels))\n",
    "    tf_valid_dataset = tf.constant(valid_dataset)\n",
    "    tf_test_dataset  = tf.constant(test_dataset)\n",
    "\n",
    "    # Variables.\n",
    "    weights_1        = tf.Variable( tf.truncated_normal([image_size * image_size, num_nodes]))\n",
    "    biases_1         = tf.Variable( tf.zeros([num_nodes]))\n",
    "    weights_2        = tf.Variable( tf.truncated_normal([num_nodes, num_labels]))\n",
    "    biases_2         = tf.Variable( tf.zeros([num_labels]))\n",
    "\n",
    "    # Training computation.\n",
    "    logits_1         = tf.matmul(tf_train_dataset, weights_1) + biases_1\n",
    "    relu_layer       = tf.nn.relu(logits_1)\n",
    "    logits_2         = tf.matmul(relu_layer, weights_2) + biases_2\n",
    "    \n",
    "    # Normal loss function\n",
    "    loss             = tf.reduce_mean(\n",
    "        tf.nn.softmax_cross_entropy_with_logits( labels=tf_train_labels, logits=logits_2 ))\n",
    "    # Loss function with L2 Regularization with beta=0.01\n",
    "    regularizers     = tf.nn.l2_loss(weights_1) + tf.nn.l2_loss(weights_2)\n",
    "    loss             = tf.reduce_mean(loss + beta * regularizers)\n",
    "\n",
    "    # Optimizer.\n",
    "    optimizer        = tf.train.GradientDescentOptimizer(0.5).minimize(loss)\n",
    "\n",
    "    # Predictions for the training\n",
    "    train_prediction = tf.nn.softmax(logits_2)\n",
    "    \n",
    "    # Predictions for validation \n",
    "    logits_1         = tf.matmul(tf_valid_dataset, weights_1) + biases_1\n",
    "    relu_layer       = tf.nn.relu(logits_1)\n",
    "    logits_2         = tf.matmul(relu_layer, weights_2) + biases_2\n",
    "    \n",
    "    valid_prediction = tf.nn.softmax(logits_2)\n",
    "    \n",
    "    # Predictions for test\n",
    "    logits_1 = tf.matmul(tf_test_dataset, weights_1) + biases_1\n",
    "    relu_layer= tf.nn.relu(logits_1)\n",
    "    logits_2 = tf.matmul(relu_layer, weights_2) + biases_2\n",
    "    \n",
    "    test_prediction =  tf.nn.softmax(logits_2)"
   ]
  },
  {
   "cell_type": "code",
   "execution_count": 9,
   "metadata": {},
   "outputs": [
    {
     "name": "stdout",
     "output_type": "stream",
     "text": [
      "WARNING:tensorflow:From C:\\aat\\Anaconda3\\lib\\site-packages\\tensorflow\\python\\util\\tf_should_use.py:175: initialize_all_variables (from tensorflow.python.ops.variables) is deprecated and will be removed after 2017-03-02.\n",
      "Instructions for updating:\n",
      "Use `tf.global_variables_initializer` instead.\n",
      "Initialized\n",
      "Minibatch loss at step 0: 3555.803955078125\n",
      "Minibatch accuracy: 7.8\n",
      "Validation accuracy: 32.8\n",
      "Minibatch loss at step 500: 21.15719223022461\n",
      "Minibatch accuracy: 88.3\n",
      "Validation accuracy: 84.3\n",
      "Minibatch loss at step 1000: 0.954941987991333\n",
      "Minibatch accuracy: 81.2\n",
      "Validation accuracy: 83.1\n",
      "Minibatch loss at step 1500: 0.5846886038780212\n",
      "Minibatch accuracy: 85.9\n",
      "Validation accuracy: 83.6\n",
      "Minibatch loss at step 2000: 0.6095253229141235\n",
      "Minibatch accuracy: 89.8\n",
      "Validation accuracy: 83.5\n",
      "Minibatch loss at step 2500: 0.7159295678138733\n",
      "Minibatch accuracy: 84.4\n",
      "Validation accuracy: 83.4\n",
      "Minibatch loss at step 3000: 0.7612460851669312\n",
      "Minibatch accuracy: 81.2\n",
      "Validation accuracy: 83.4\n",
      "Test accuracy: 90.3\n"
     ]
    }
   ],
   "source": [
    "num_steps = 3001\n",
    "\n",
    "with tf.Session(graph=graph) as session:\n",
    "    tf.initialize_all_variables().run()\n",
    "    print(\"Initialized\")\n",
    "    for step in range(num_steps):\n",
    "        # Pick an offset within the training data, which has been randomized.\n",
    "        # Note: we could use better randomization across epochs.\n",
    "        offset = (step * batch_size) % (train_labels.shape[0] - batch_size)\n",
    "        # Generate a minibatch.\n",
    "        batch_data   = train_dataset[offset:(offset + batch_size), :]\n",
    "        batch_labels = train_labels[offset:(offset + batch_size), :]\n",
    "        # Prepare a dictionary telling the session where to feed the minibatch.\n",
    "        # The key of the dictionary is the placeholder node of the graph to be fed,\n",
    "        # and the value is the numpy array to feed to it.\n",
    "        feed_dict = {tf_train_dataset : batch_data, tf_train_labels : batch_labels}\n",
    "        _, l, predictions = session.run([optimizer, loss, train_prediction], feed_dict=feed_dict)\n",
    "        if (step % 500 == 0):\n",
    "            print(\"Minibatch loss at step {}: {}\".format(step, l))\n",
    "            print(\"Minibatch accuracy: {:.1f}\".format(accuracy(predictions, batch_labels)))\n",
    "            print(\"Validation accuracy: {:.1f}\".format(accuracy(valid_prediction.eval(), valid_labels)))\n",
    "    print(\"Test accuracy: {:.1f}\".format(accuracy(test_prediction.eval(), test_labels)))"
   ]
  },
  {
   "cell_type": "code",
   "execution_count": null,
   "metadata": {
    "collapsed": true
   },
   "outputs": [],
   "source": []
  },
  {
   "cell_type": "markdown",
   "metadata": {},
   "source": [
    "### Problem 2\n",
    "Let's demonstrate an extreme case of overfitting. Restrict your training data to just a few batches. What happens?"
   ]
  },
  {
   "cell_type": "code",
   "execution_count": 10,
   "metadata": {},
   "outputs": [
    {
     "name": "stdout",
     "output_type": "stream",
     "text": [
      "WARNING:tensorflow:From C:\\aat\\Anaconda3\\lib\\site-packages\\tensorflow\\python\\util\\tf_should_use.py:175: initialize_all_variables (from tensorflow.python.ops.variables) is deprecated and will be removed after 2017-03-02.\n",
      "Instructions for updating:\n",
      "Use `tf.global_variables_initializer` instead.\n",
      "Initialized\n",
      "Minibatch loss at step 0: 3524.33056640625\n",
      "Minibatch accuracy: 10.9\n",
      "Validation accuracy: 22.2\n",
      "Minibatch loss at step 500: 21.11434555053711\n",
      "Minibatch accuracy: 100.0\n",
      "Validation accuracy: 78.0\n",
      "Minibatch loss at step 1000: 0.4924938380718231\n",
      "Minibatch accuracy: 99.2\n",
      "Validation accuracy: 79.4\n",
      "Minibatch loss at step 1500: 0.3005690574645996\n",
      "Minibatch accuracy: 100.0\n",
      "Validation accuracy: 79.2\n",
      "Minibatch loss at step 2000: 0.2825489044189453\n",
      "Minibatch accuracy: 100.0\n",
      "Validation accuracy: 79.4\n",
      "Minibatch loss at step 2500: 0.28142428398132324\n",
      "Minibatch accuracy: 100.0\n",
      "Validation accuracy: 79.4\n",
      "Minibatch loss at step 3000: 0.27802497148513794\n",
      "Minibatch accuracy: 100.0\n",
      "Validation accuracy: 79.5\n",
      "Test accuracy: 86.5\n"
     ]
    }
   ],
   "source": [
    "num_steps = 3001\n",
    "\n",
    "train_dataset_2 = train_dataset[:500, :]\n",
    "train_labels_2 = train_labels[:500]\n",
    "\n",
    "with tf.Session(graph=graph) as session:\n",
    "    tf.initialize_all_variables().run()\n",
    "    print(\"Initialized\")\n",
    "    for step in range(num_steps):\n",
    "        # Pick an offset within the training data, which has been randomized.\n",
    "        # Note: we could use better randomization across epochs.\n",
    "        offset = (step * batch_size) % (train_labels_2.shape[0] - batch_size)\n",
    "        # Generate a minibatch.\n",
    "        batch_data = train_dataset_2[offset:(offset + batch_size), :]\n",
    "        batch_labels = train_labels_2[offset:(offset + batch_size), :]\n",
    "        # Prepare a dictionary telling the session where to feed the minibatch.\n",
    "        # The key of the dictionary is the placeholder node of the graph to be fed,\n",
    "        # and the value is the numpy array to feed to it.\n",
    "        feed_dict = {tf_train_dataset : batch_data, tf_train_labels : batch_labels}\n",
    "        _, l, predictions = session.run([optimizer, loss, train_prediction], feed_dict=feed_dict)\n",
    "        if (step % 500 == 0):\n",
    "            print(\"Minibatch loss at step {}: {}\".format(step, l))\n",
    "            print(\"Minibatch accuracy: {:.1f}\".format(accuracy(predictions, batch_labels)))\n",
    "            print(\"Validation accuracy: {:.1f}\".format(accuracy(valid_prediction.eval(), valid_labels)))\n",
    "    print(\"Test accuracy: {:.1f}\".format(accuracy(test_prediction.eval(), test_labels)))"
   ]
  },
  {
   "cell_type": "markdown",
   "metadata": {},
   "source": [
    "As you can see, there's high training accuracy but low validation accuracy. There is overfitting here."
   ]
  },
  {
   "cell_type": "markdown",
   "metadata": {},
   "source": [
    "### Problem 3\n",
    "Introduce Dropout on the hidden layer of the neural network. Remember: Dropout should only be introduced during training, not evaluation, otherwise your evaluation results would be stochastic as well. TensorFlow provides ```nn.dropout()``` for that, but you have to make sure it's only inserted during training.\n",
    "\n",
    "What happens to our extreme overfitting case?"
   ]
  },
  {
   "cell_type": "code",
   "execution_count": 11,
   "metadata": {
    "collapsed": true
   },
   "outputs": [],
   "source": [
    "num_nodes= 1024\n",
    "batch_size = 128\n",
    "beta = 0.01\n",
    "\n",
    "graph = tf.Graph()\n",
    "with graph.as_default():\n",
    "\n",
    "    # Input data. For the training data, we use a placeholder that will be fed\n",
    "    # at run time with a training minibatch.\n",
    "    tf_train_dataset = tf.placeholder(tf.float32, shape=(batch_size, image_size * image_size))\n",
    "    tf_train_labels  = tf.placeholder(tf.float32, shape=(batch_size, num_labels))\n",
    "    tf_valid_dataset = tf.constant(valid_dataset)\n",
    "    tf_test_dataset  = tf.constant(test_dataset)\n",
    "\n",
    "    # Variables.\n",
    "    weights_1  = tf.Variable(tf.truncated_normal([image_size * image_size, num_nodes]))\n",
    "    biases_1   = tf.Variable(tf.zeros([num_nodes]))\n",
    "    weights_2  = tf.Variable(tf.truncated_normal([num_nodes, num_labels]))\n",
    "    biases_2   = tf.Variable(tf.zeros([num_labels]))\n",
    "    \n",
    "    # Training computation.\n",
    "    logits_1   = tf.matmul(tf_train_dataset, weights_1) + biases_1\n",
    "    relu_layer = tf.nn.relu(logits_1)\n",
    "    \n",
    "    # Dropout on hidden layer: RELU layer\n",
    "    keep_prob  = tf.placeholder(\"float\")\n",
    "    relu_layer_dropout = tf.nn.dropout(relu_layer, keep_prob)\n",
    "    \n",
    "    logits_2 = tf.matmul(relu_layer_dropout, weights_2) + biases_2\n",
    "    # Normal loss function\n",
    "    loss = tf.reduce_mean( tf.nn.softmax_cross_entropy_with_logits( labels=tf_train_labels, logits=logits_2  ) )\n",
    "    \n",
    "    # Loss function with L2 Regularization with beta=0.01\n",
    "    regularizers = tf.nn.l2_loss(weights_1) + tf.nn.l2_loss(weights_2)\n",
    "    loss = tf.reduce_mean(loss + beta * regularizers)\n",
    "\n",
    "    # Optimizer.\n",
    "    optimizer = tf.train.GradientDescentOptimizer(0.5).minimize(loss)\n",
    "\n",
    "    # Predictions for the training\n",
    "    train_prediction = tf.nn.softmax(logits_2)\n",
    "    \n",
    "    # Predictions for validation \n",
    "    logits_1 = tf.matmul(tf_valid_dataset, weights_1) + biases_1\n",
    "    relu_layer= tf.nn.relu(logits_1)\n",
    "    logits_2 = tf.matmul(relu_layer, weights_2) + biases_2\n",
    "    \n",
    "    valid_prediction = tf.nn.softmax(logits_2)\n",
    "    \n",
    "    # Predictions for test\n",
    "    logits_1 = tf.matmul(tf_test_dataset, weights_1) + biases_1\n",
    "    relu_layer= tf.nn.relu(logits_1)\n",
    "    logits_2 = tf.matmul(relu_layer, weights_2) + biases_2\n",
    "    \n",
    "    test_prediction =  tf.nn.softmax(logits_2)"
   ]
  },
  {
   "cell_type": "code",
   "execution_count": 12,
   "metadata": {},
   "outputs": [
    {
     "name": "stdout",
     "output_type": "stream",
     "text": [
      "WARNING:tensorflow:From C:\\aat\\Anaconda3\\lib\\site-packages\\tensorflow\\python\\util\\tf_should_use.py:175: initialize_all_variables (from tensorflow.python.ops.variables) is deprecated and will be removed after 2017-03-02.\n",
      "Instructions for updating:\n",
      "Use `tf.global_variables_initializer` instead.\n",
      "Initialized\n",
      "Minibatch loss at step 0: 3614.760009765625\n",
      "Minibatch accuracy: 7.8\n",
      "Validation accuracy: 30.4\n",
      "Minibatch loss at step 500: 21.38389015197754\n",
      "Minibatch accuracy: 85.9\n",
      "Validation accuracy: 83.4\n",
      "Minibatch loss at step 1000: 1.0440140962600708\n",
      "Minibatch accuracy: 81.2\n",
      "Validation accuracy: 82.7\n",
      "Minibatch loss at step 1500: 0.6826068758964539\n",
      "Minibatch accuracy: 85.9\n",
      "Validation accuracy: 83.4\n",
      "Minibatch loss at step 2000: 0.6931944489479065\n",
      "Minibatch accuracy: 87.5\n",
      "Validation accuracy: 83.2\n",
      "Minibatch loss at step 2500: 0.7778692245483398\n",
      "Minibatch accuracy: 82.8\n",
      "Validation accuracy: 82.9\n",
      "Minibatch loss at step 3000: 0.8199222683906555\n",
      "Minibatch accuracy: 85.2\n",
      "Validation accuracy: 83.1\n",
      "Test accuracy: 89.9\n"
     ]
    }
   ],
   "source": [
    "num_steps = 3001\n",
    "\n",
    "with tf.Session(graph=graph) as session:\n",
    "    tf.initialize_all_variables().run()\n",
    "    print(\"Initialized\")\n",
    "    for step in range(num_steps):\n",
    "        # Pick an offset within the training data, which has been randomized.\n",
    "        # Note: we could use better randomization across epochs.\n",
    "        offset = (step * batch_size) % (train_labels.shape[0] - batch_size)\n",
    "        # Generate a minibatch.\n",
    "        batch_data = train_dataset[offset:(offset + batch_size), :]\n",
    "        batch_labels = train_labels[offset:(offset + batch_size), :]\n",
    "        # Prepare a dictionary telling the session where to feed the minibatch.\n",
    "        # The key of the dictionary is the placeholder node of the graph to be fed,\n",
    "        # and the value is the numpy array to feed to it.\n",
    "        feed_dict = {tf_train_dataset : batch_data, tf_train_labels : batch_labels, keep_prob : 0.5}\n",
    "        _, l, predictions = session.run([optimizer, loss, train_prediction], feed_dict=feed_dict)\n",
    "        if (step % 500 == 0):\n",
    "            print(\"Minibatch loss at step {}: {}\".format(step, l))\n",
    "            print(\"Minibatch accuracy: {:.1f}\".format(accuracy(predictions, batch_labels)))\n",
    "            print(\"Validation accuracy: {:.1f}\".format(accuracy(valid_prediction.eval(), valid_labels)))\n",
    "    print(\"Test accuracy: {:.1f}\".format(accuracy(test_prediction.eval(), test_labels)))"
   ]
  },
  {
   "cell_type": "markdown",
   "metadata": {},
   "source": [
    "we can see that overfitting isapear. The Training accuracy is less."
   ]
  },
  {
   "cell_type": "markdown",
   "metadata": {},
   "source": [
    "#### Extreme Overfitting"
   ]
  },
  {
   "cell_type": "code",
   "execution_count": 13,
   "metadata": {},
   "outputs": [
    {
     "name": "stdout",
     "output_type": "stream",
     "text": [
      "WARNING:tensorflow:From C:\\aat\\Anaconda3\\lib\\site-packages\\tensorflow\\python\\util\\tf_should_use.py:175: initialize_all_variables (from tensorflow.python.ops.variables) is deprecated and will be removed after 2017-03-02.\n",
      "Instructions for updating:\n",
      "Use `tf.global_variables_initializer` instead.\n",
      "Initialized\n",
      "Minibatch loss at step 0: 3639.624267578125\n",
      "Minibatch accuracy: 9.4\n",
      "Validation accuracy: 30.4\n",
      "Minibatch loss at step 500: 21.162017822265625\n",
      "Minibatch accuracy: 100.0\n",
      "Validation accuracy: 79.0\n",
      "Minibatch loss at step 1000: 0.5356572270393372\n",
      "Minibatch accuracy: 99.2\n",
      "Validation accuracy: 79.7\n",
      "Minibatch loss at step 1500: 0.3356752395629883\n",
      "Minibatch accuracy: 99.2\n",
      "Validation accuracy: 79.4\n",
      "Minibatch loss at step 2000: 0.3147854208946228\n",
      "Minibatch accuracy: 99.2\n",
      "Validation accuracy: 79.7\n",
      "Minibatch loss at step 2500: 0.3103518486022949\n",
      "Minibatch accuracy: 99.2\n",
      "Validation accuracy: 79.8\n",
      "Minibatch loss at step 3000: 0.30721691250801086\n",
      "Minibatch accuracy: 99.2\n",
      "Validation accuracy: 79.9\n",
      "Test accuracy: 86.9\n"
     ]
    }
   ],
   "source": [
    "num_steps = 3001\n",
    "beta = 0.01\n",
    "\n",
    "train_dataset_2 = train_dataset[:500, :]\n",
    "train_labels_2 = train_labels[:500]\n",
    "\n",
    "with tf.Session(graph=graph) as session:\n",
    "    tf.initialize_all_variables().run()\n",
    "    print(\"Initialized\")\n",
    "    for step in range(num_steps):\n",
    "        # Pick an offset within the training data, which has been randomized.\n",
    "        # Note: we could use better randomization across epochs.\n",
    "        offset = (step * batch_size) % (train_labels_2.shape[0] - batch_size)\n",
    "        # Generate a minibatch.\n",
    "        batch_data = train_dataset_2[offset:(offset + batch_size), :]\n",
    "        batch_labels = train_labels_2[offset:(offset + batch_size), :]\n",
    "        # Prepare a dictionary telling the session where to feed the minibatch.\n",
    "        # The key of the dictionary is the placeholder node of the graph to be fed,\n",
    "        # and the value is the numpy array to feed to it.\n",
    "        feed_dict = {tf_train_dataset : batch_data, tf_train_labels : batch_labels,  keep_prob : 0.5}\n",
    "        _, l, predictions = session.run([optimizer, loss, train_prediction], feed_dict=feed_dict)\n",
    "        if (step % 500 == 0):\n",
    "            print(\"Minibatch loss at step {}: {}\".format(step, l))\n",
    "            print(\"Minibatch accuracy: {:.1f}\".format(accuracy(predictions, batch_labels)))\n",
    "            print(\"Validation accuracy: {:.1f}\".format(accuracy(valid_prediction.eval(), valid_labels)))\n",
    "    print(\"Test accuracy: {:.1f}\".format(accuracy(test_prediction.eval(), test_labels)))"
   ]
  },
  {
   "cell_type": "markdown",
   "metadata": {},
   "source": [
    "### Problem 4\n",
    "\n",
    "Try to get the best performance you can using a multi-layer model! The best reported test accuracy using a deep network is 97.1%.\n",
    "\n",
    "One avenue you can explore is to add multiple layers.\n",
    "Another one is to use learning rate decay:\n",
    "\n",
    "``` \n",
    "global_step   = tf.Variable(0)  # count the number of steps taken.\n",
    "learning_rate = tf.train.exponential_decay(0.5, global_step, ...)\n",
    "optimizer     = tf.train.GradientDescentOptimizer(learning_rate).minimize(loss, global_step=global_step)\n",
    "```\n"
   ]
  },
  {
   "cell_type": "markdown",
   "metadata": {
    "collapsed": true
   },
   "source": [
    "---\n",
    "__Model__\n",
    "\n",
    "* 5 hidden layers NN\n",
    "  * RELUs\n",
    "  * Number of nodes decrease by 50% with each hidden layer that is deeper in the neural net\n",
    "\n",
    "\n",
    "* Overfitting measures\n",
    "  * L2 Regularization\n",
    "  * Learning rate (beta) with exponential decay\n",
    "  * Dropout\n",
    "\n",
    "* 10,000 steps"
   ]
  },
  {
   "cell_type": "code",
   "execution_count": 14,
   "metadata": {
    "collapsed": true
   },
   "outputs": [],
   "source": [
    "import math as math"
   ]
  },
  {
   "cell_type": "code",
   "execution_count": 16,
   "metadata": {
    "collapsed": true
   },
   "outputs": [],
   "source": [
    "# init some parameters\n",
    "\n",
    "batch_size = 128\n",
    "beta = 0.001\n",
    "\n",
    "hidden_nodes_1 = 1024\n",
    "hidden_nodes_2 = int(hidden_nodes_1 * 0.5)\n",
    "hidden_nodes_3 = int(hidden_nodes_1 * np.power(0.5, 2))\n",
    "hidden_nodes_4 = int(hidden_nodes_1 * np.power(0.5, 3))\n",
    "hidden_nodes_5 = int(hidden_nodes_1 * np.power(0.5, 4))\n"
   ]
  },
  {
   "cell_type": "code",
   "execution_count": 17,
   "metadata": {},
   "outputs": [
    {
     "name": "stdout",
     "output_type": "stream",
     "text": [
      "hidden_nodes_1: 1024\n",
      "hidden_nodes_2: 512\n",
      "hidden_nodes_3: 256\n",
      "hidden_nodes_4: 128\n",
      "hidden_nodes_5: 64\n"
     ]
    }
   ],
   "source": [
    "print( 'hidden_nodes_1: {}'.format( hidden_nodes_1 ) )\n",
    "print( 'hidden_nodes_2: {}'.format( hidden_nodes_2 ) )\n",
    "print( 'hidden_nodes_3: {}'.format( hidden_nodes_3 ) )\n",
    "print( 'hidden_nodes_4: {}'.format( hidden_nodes_4 ) )\n",
    "print( 'hidden_nodes_5: {}'.format( hidden_nodes_5 ) )\n"
   ]
  },
  {
   "cell_type": "code",
   "execution_count": 18,
   "metadata": {
    "collapsed": true
   },
   "outputs": [],
   "source": [
    "\n",
    "graph = tf.Graph()\n",
    "with graph.as_default():\n",
    "\n",
    "    '''Input Data'''\n",
    "    # For the training data, we use a placeholder that will be fed\n",
    "    # at run time with a training minibatch.\n",
    "    tf_train_dataset = tf.placeholder(tf.float32, shape=(batch_size, image_size * image_size))\n",
    "    tf_train_labels = tf.placeholder(tf.float32, shape=(batch_size, num_labels))\n",
    "    tf_valid_dataset = tf.constant(valid_dataset)\n",
    "    tf_test_dataset = tf.constant(test_dataset)\n",
    "\n",
    "    '''Variables'''\n",
    "    # Hidden RELU layer 1\n",
    "    weights_1 = tf.Variable(tf.truncated_normal([image_size * image_size, hidden_nodes_1], stddev=math.sqrt(2.0/(image_size*image_size))))\n",
    "    biases_1 = tf.Variable(tf.zeros([hidden_nodes_1]))\n",
    "\n",
    "    # Hidden RELU layer 2\n",
    "    weights_2 = tf.Variable(tf.truncated_normal([hidden_nodes_1, hidden_nodes_2], stddev=math.sqrt(2.0/hidden_nodes_1)))\n",
    "    biases_2 = tf.Variable(tf.zeros([hidden_nodes_2]))\n",
    "    \n",
    "    # Hidden RELU layer 3\n",
    "    weights_3 = tf.Variable(tf.truncated_normal([hidden_nodes_2, hidden_nodes_3], stddev=math.sqrt(2.0/hidden_nodes_2)))\n",
    "    biases_3 = tf.Variable(tf.zeros([hidden_nodes_3]))\n",
    "    \n",
    "    # Hidden RELU layer 4\n",
    "    weights_4 = tf.Variable(tf.truncated_normal([hidden_nodes_3, hidden_nodes_4], stddev=math.sqrt(2.0/hidden_nodes_3)))\n",
    "    biases_4 = tf.Variable(tf.zeros([hidden_nodes_4]))\n",
    "    \n",
    "    # Hidden RELU layer 5\n",
    "    weights_5 = tf.Variable(tf.truncated_normal([hidden_nodes_4, hidden_nodes_5], stddev=math.sqrt(2.0/hidden_nodes_4)))\n",
    "    biases_5 = tf.Variable(tf.zeros([hidden_nodes_5]))\n",
    "    \n",
    "    # Output layer\n",
    "    weights_6 = tf.Variable(tf.truncated_normal([hidden_nodes_5, num_labels], stddev=math.sqrt(2.0/hidden_nodes_5)))\n",
    "    biases_6 = tf.Variable(tf.zeros([num_labels]))\n",
    "    \n",
    "    '''Training computation'''\n",
    "    \n",
    "    # Hidden RELU layer 1\n",
    "    logits_1 = tf.matmul(tf_train_dataset, weights_1) + biases_1\n",
    "    hidden_layer_1 = tf.nn.relu(logits_1)\n",
    "    # Dropout on hidden layer: RELU layer\n",
    "    keep_prob = tf.placeholder(\"float\")\n",
    "    hidden_layer_1_dropout = tf.nn.dropout(hidden_layer_1, keep_prob)\n",
    "    \n",
    "    \n",
    "    # Hidden RELU layer 2\n",
    "    logits_2 = tf.matmul(hidden_layer_1_dropout, weights_2) + biases_2\n",
    "    hidden_layer_2 = tf.nn.relu(logits_2)\n",
    "    # Dropout on hidden layer: RELU layer\n",
    "    hidden_layer_2_dropout = tf.nn.dropout(hidden_layer_2, keep_prob)\n",
    "    \n",
    "    # Hidden RELU layer 3\n",
    "    logits_3 = tf.matmul(hidden_layer_2_dropout, weights_3) + biases_3\n",
    "    hidden_layer_3 = tf.nn.relu(logits_3)\n",
    "    # Dropout on hidden layer: RELU layer\n",
    "    hidden_layer_3_dropout = tf.nn.dropout(hidden_layer_3, keep_prob)\n",
    "    \n",
    "    # Hidden RELU layer 4\n",
    "    logits_4 = tf.matmul(hidden_layer_3_dropout, weights_4) + biases_4\n",
    "    hidden_layer_4 = tf.nn.relu(logits_4)\n",
    "    # Dropout on hidden layer: RELU layer\n",
    "\n",
    "    hidden_layer_4_dropout = tf.nn.dropout(hidden_layer_4, keep_prob)\n",
    "    \n",
    "    # Hidden RELU layer 5\n",
    "    logits_5 = tf.matmul(hidden_layer_4_dropout, weights_5) + biases_5\n",
    "    hidden_layer_5 = tf.nn.relu(logits_5)\n",
    "    # Dropout on hidden layer: RELU layer\n",
    "    hidden_layer_5_dropout = tf.nn.dropout(hidden_layer_5, keep_prob)\n",
    "    \n",
    "    # Output layer\n",
    "    logits_6 = tf.matmul(hidden_layer_5_dropout, weights_6) + biases_6 \n",
    "    \n",
    "    # Normal loss function\n",
    "    loss = tf.reduce_mean(tf.nn.softmax_cross_entropy_with_logits( labels= tf_train_labels, logits=logits_6 ))\n",
    "    \n",
    "    # Loss function with L2 Regularization with decaying learning rate beta=0.5\n",
    "    regularizers = tf.nn.l2_loss(weights_1) + tf.nn.l2_loss(weights_2) + \\\n",
    "                   tf.nn.l2_loss(weights_3) + tf.nn.l2_loss(weights_4) + \\\n",
    "                   tf.nn.l2_loss(weights_5) + tf.nn.l2_loss(weights_6)\n",
    "    loss = tf.reduce_mean(loss + beta * regularizers)\n",
    "\n",
    "    '''Optimizer'''\n",
    "    # Decaying learning rate\n",
    "    global_step = tf.Variable(0)  # count the number of steps taken.\n",
    "    start_learning_rate = 0.5\n",
    "    learning_rate = tf.train.exponential_decay(start_learning_rate, global_step, 100000, 0.96, staircase=True)\n",
    "    optimizer = tf.train.GradientDescentOptimizer(learning_rate).minimize(loss, global_step=global_step)\n",
    "    \n",
    "    # Predictions for the training\n",
    "    train_prediction = tf.nn.softmax(logits_6)\n",
    "    \n",
    "    # Predictions for validation \n",
    "    valid_logits_1 = tf.matmul(tf_valid_dataset, weights_1) + biases_1\n",
    "    valid_relu_1 = tf.nn.relu(valid_logits_1)\n",
    "    \n",
    "    valid_logits_2 = tf.matmul(valid_relu_1, weights_2) + biases_2\n",
    "    valid_relu_2 = tf.nn.relu(valid_logits_2)\n",
    "    \n",
    "    valid_logits_3 = tf.matmul(valid_relu_2, weights_3) + biases_3\n",
    "    valid_relu_3 = tf.nn.relu(valid_logits_3)\n",
    "    \n",
    "    valid_logits_4 = tf.matmul(valid_relu_3, weights_4) + biases_4\n",
    "    valid_relu_4 = tf.nn.relu(valid_logits_4)\n",
    "    \n",
    "    valid_logits_5 = tf.matmul(valid_relu_4, weights_5) + biases_5\n",
    "    valid_relu_5 = tf.nn.relu(valid_logits_5)\n",
    "    \n",
    "    valid_logits_6 = tf.matmul(valid_relu_5, weights_6) + biases_6\n",
    "    \n",
    "    valid_prediction = tf.nn.softmax(valid_logits_6)\n",
    "    \n",
    "    # Predictions for test\n",
    "    test_logits_1 = tf.matmul(tf_test_dataset, weights_1) + biases_1\n",
    "    test_relu_1 = tf.nn.relu(test_logits_1)\n",
    "    \n",
    "    test_logits_2 = tf.matmul(test_relu_1, weights_2) + biases_2\n",
    "    test_relu_2 = tf.nn.relu(test_logits_2)\n",
    "    \n",
    "    test_logits_3 = tf.matmul(test_relu_2, weights_3) + biases_3\n",
    "    test_relu_3 = tf.nn.relu(test_logits_3)\n",
    "    \n",
    "    test_logits_4 = tf.matmul(test_relu_3, weights_4) + biases_4\n",
    "    test_relu_4 = tf.nn.relu(test_logits_4)\n",
    "    \n",
    "    test_logits_5 = tf.matmul(test_relu_4, weights_5) + biases_5\n",
    "    test_relu_5 = tf.nn.relu(test_logits_5)\n",
    "    \n",
    "    test_logits_6 = tf.matmul(test_relu_5, weights_6) + biases_6\n",
    "    \n",
    "    test_prediction = tf.nn.softmax(test_logits_6)"
   ]
  },
  {
   "cell_type": "code",
   "execution_count": 19,
   "metadata": {},
   "outputs": [
    {
     "name": "stdout",
     "output_type": "stream",
     "text": [
      "WARNING:tensorflow:From C:\\aat\\Anaconda3\\lib\\site-packages\\tensorflow\\python\\util\\tf_should_use.py:175: initialize_all_variables (from tensorflow.python.ops.variables) is deprecated and will be removed after 2017-03-02.\n",
      "Instructions for updating:\n",
      "Use `tf.global_variables_initializer` instead.\n",
      "Initialized\n",
      "Minibatch loss at step 0: 4.872474193572998\n",
      "Minibatch accuracy: 10.9\n",
      "Validation accuracy: 13.3\n",
      "Minibatch loss at step 500: 1.6643033027648926\n",
      "Minibatch accuracy: 82.8\n",
      "Validation accuracy: 82.8\n",
      "Minibatch loss at step 1000: 1.3785741329193115\n",
      "Minibatch accuracy: 80.5\n",
      "Validation accuracy: 83.4\n",
      "Minibatch loss at step 1500: 1.123368740081787\n",
      "Minibatch accuracy: 85.2\n",
      "Validation accuracy: 84.5\n",
      "Minibatch loss at step 2000: 0.9987941980361938\n",
      "Minibatch accuracy: 89.8\n",
      "Validation accuracy: 85.0\n",
      "Minibatch loss at step 2500: 0.8903301954269409\n",
      "Minibatch accuracy: 85.2\n",
      "Validation accuracy: 84.9\n",
      "Minibatch loss at step 3000: 0.9480429887771606\n",
      "Minibatch accuracy: 82.8\n",
      "Validation accuracy: 84.7\n",
      "Minibatch loss at step 3500: 0.8611792325973511\n",
      "Minibatch accuracy: 83.6\n",
      "Validation accuracy: 85.1\n",
      "Minibatch loss at step 4000: 0.7606879472732544\n",
      "Minibatch accuracy: 86.7\n",
      "Validation accuracy: 85.4\n",
      "Minibatch loss at step 4500: 0.7199885845184326\n",
      "Minibatch accuracy: 83.6\n",
      "Validation accuracy: 85.7\n",
      "Minibatch loss at step 5000: 0.8349072933197021\n",
      "Minibatch accuracy: 84.4\n",
      "Validation accuracy: 85.6\n",
      "Minibatch loss at step 5500: 0.8879806995391846\n",
      "Minibatch accuracy: 82.0\n",
      "Validation accuracy: 85.6\n",
      "Minibatch loss at step 6000: 0.8750190734863281\n",
      "Minibatch accuracy: 82.8\n",
      "Validation accuracy: 85.5\n",
      "Minibatch loss at step 6500: 0.6581477522850037\n",
      "Minibatch accuracy: 88.3\n",
      "Validation accuracy: 86.3\n",
      "Minibatch loss at step 7000: 0.8821529150009155\n",
      "Minibatch accuracy: 80.5\n",
      "Validation accuracy: 86.6\n",
      "Minibatch loss at step 7500: 0.9499810934066772\n",
      "Minibatch accuracy: 78.1\n",
      "Validation accuracy: 85.7\n",
      "Minibatch loss at step 8000: 1.0524306297302246\n",
      "Minibatch accuracy: 78.1\n",
      "Validation accuracy: 85.3\n",
      "Minibatch loss at step 8500: 0.793034553527832\n",
      "Minibatch accuracy: 85.9\n",
      "Validation accuracy: 86.1\n",
      "Minibatch loss at step 9000: 0.8700241446495056\n",
      "Minibatch accuracy: 82.8\n",
      "Validation accuracy: 86.2\n",
      "Minibatch loss at step 9500: 0.8295312523841858\n",
      "Minibatch accuracy: 86.7\n",
      "Validation accuracy: 86.0\n",
      "Minibatch loss at step 10000: 0.8423494696617126\n",
      "Minibatch accuracy: 84.4\n",
      "Validation accuracy: 86.1\n",
      "Minibatch loss at step 10500: 0.8164557218551636\n",
      "Minibatch accuracy: 80.5\n",
      "Validation accuracy: 85.6\n",
      "Minibatch loss at step 11000: 0.8595594167709351\n",
      "Minibatch accuracy: 83.6\n",
      "Validation accuracy: 84.5\n",
      "Minibatch loss at step 11500: 0.8009029626846313\n",
      "Minibatch accuracy: 83.6\n",
      "Validation accuracy: 86.1\n",
      "Minibatch loss at step 12000: 0.9125238656997681\n",
      "Minibatch accuracy: 82.0\n",
      "Validation accuracy: 85.9\n",
      "Minibatch loss at step 12500: 0.7069600820541382\n",
      "Minibatch accuracy: 87.5\n",
      "Validation accuracy: 86.3\n",
      "Minibatch loss at step 13000: 0.8257005214691162\n",
      "Minibatch accuracy: 85.2\n",
      "Validation accuracy: 86.5\n",
      "Minibatch loss at step 13500: 0.9227458834648132\n",
      "Minibatch accuracy: 84.4\n",
      "Validation accuracy: 85.6\n",
      "Minibatch loss at step 14000: 0.7856595516204834\n",
      "Minibatch accuracy: 82.8\n",
      "Validation accuracy: 86.5\n",
      "Minibatch loss at step 14500: 0.8828372955322266\n",
      "Minibatch accuracy: 82.0\n",
      "Validation accuracy: 86.4\n",
      "Test accuracy: 92.7\n"
     ]
    }
   ],
   "source": [
    "num_steps = 15000\n",
    "\n",
    "with tf.Session(graph=graph) as session:\n",
    "    tf.initialize_all_variables().run()\n",
    "    print(\"Initialized\")\n",
    "    for step in range(num_steps):\n",
    "        # Pick an offset within the training data, which has been randomized.\n",
    "        # Note: we could use better randomization across epochs.\n",
    "        offset = (step * batch_size) % (train_labels.shape[0] - batch_size)\n",
    "        # Generate a minibatch.\n",
    "        batch_data = train_dataset[offset:(offset + batch_size), :]\n",
    "        batch_labels = train_labels[offset:(offset + batch_size), :]\n",
    "        # Prepare a dictionary telling the session where to feed the minibatch.\n",
    "        # The key of the dictionary is the placeholder node of the graph to be fed,\n",
    "        # and the value is the numpy array to feed to it.\n",
    "        feed_dict = {tf_train_dataset : batch_data, tf_train_labels : batch_labels, keep_prob : 0.5}\n",
    "        _, l, predictions = session.run([optimizer, loss, train_prediction], feed_dict=feed_dict)\n",
    "        if (step % 500 == 0):\n",
    "            print(\"Minibatch loss at step {}: {}\".format(step, l))\n",
    "            print(\"Minibatch accuracy: {:.1f}\".format(accuracy(predictions, batch_labels)))\n",
    "            print(\"Validation accuracy: {:.1f}\".format(accuracy(valid_prediction.eval(), valid_labels)))\n",
    "    print(\"Test accuracy: {:.1f}\".format(accuracy(test_prediction.eval(), test_labels)))"
   ]
  },
  {
   "cell_type": "markdown",
   "metadata": {},
   "source": [
    "#### references"
   ]
  },
  {
   "cell_type": "markdown",
   "metadata": {},
   "source": [
    "other students\n",
    "* http://www.ritchieng.com/machine-learning/deep-learning/tensorflow/regularization/\n",
    "\n",
    "learning rate - SDG exponential decay\n",
    "* https://es.coursera.org/learn/deep-neural-network/lecture/hjgIA/learning-rate-decay\n",
    "    "
   ]
  },
  {
   "cell_type": "code",
   "execution_count": null,
   "metadata": {
    "collapsed": true
   },
   "outputs": [],
   "source": []
  }
 ],
 "metadata": {
  "kernelspec": {
   "display_name": "Python 3",
   "language": "python",
   "name": "python3"
  },
  "language_info": {
   "codemirror_mode": {
    "name": "ipython",
    "version": 3
   },
   "file_extension": ".py",
   "mimetype": "text/x-python",
   "name": "python",
   "nbconvert_exporter": "python",
   "pygments_lexer": "ipython3",
   "version": "3.6.1"
  }
 },
 "nbformat": 4,
 "nbformat_minor": 2
}
