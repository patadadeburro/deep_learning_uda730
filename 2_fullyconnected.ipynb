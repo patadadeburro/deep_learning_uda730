{
 "cells": [
  {
   "cell_type": "markdown",
   "metadata": {},
   "source": [
    "<style>\n",
    "table, th, td {\n",
    "    border: 1px solid black;\n",
    "}\n",
    "</style>\n",
    "\n",
    "<table style=\"width:100%\" >\n",
    "\n",
    "  <tr >\n",
    "    <th align=\"center\">Tensorflow</th>\n",
    "    <th align=\"center\">python</th>\n",
    "    <th align=\"center\">google</th>\n",
    "    <th align=\"center\">udacity</th>\n",
    "  </tr>\n",
    "\n",
    "  <tr>\n",
    "    <td>\n",
    "      <img src=\"https://upload.wikimedia.org/wikipedia/commons/a/a4/TensorFlowLogo.png\" height=\"200\" width=\"200\" />\n",
    "    </td>\n",
    "    <td>\n",
    "      <img src=\"http://spark-mooc.github.io/web-assets/images/python-logo-master-v3-TM-flattened_small.png\" height=\"200\" width=\"200\" />\n",
    "    </td>\n",
    "    <td>\n",
    "      <img src=\"https://www.blog.google/static/blog/images/google-200x200.7714256da16f.png\" height=\"200\" width=\"200\" />\n",
    "    </td>\n",
    "    <td>\n",
    "      <img src=\"https://d125fmws0bore1.cloudfront.net/assets/udacity_share-317a7f82552763598a5c91e1550b7cd83663ce02d6d475d703e25a873cd3b574.png\" height=\"200\" width=\"200\" />\n",
    "    </td>\n",
    "  </tr>\n",
    "</table>"
   ]
  },
  {
   "cell_type": "markdown",
   "metadata": {},
   "source": [
    "# Deep Learning - my Notes.\n",
    "## Arturo Alatriste Trujillo"
   ]
  },
  {
   "cell_type": "markdown",
   "metadata": {},
   "source": [
    "# Deep Learning\n",
    "## Assignment 2\n",
    "\n",
    "Previously in 1_notmnist.ipynb, we created a pickle with formatted datasets for training, development and testing on the notMNIST [dataset](http://yaroslavvb.blogspot.mx/2011/09/notmnist-dataset.html)\n",
    "\n",
    "\n",
    "The goal of this assignment is to progressively train deeper and more accurate models using TensorFlow."
   ]
  },
  {
   "cell_type": "code",
   "execution_count": 23,
   "metadata": {},
   "outputs": [
    {
     "data": {
      "text/plain": [
       "'C:\\\\Users\\\\a.alatriste.trujillo\\\\dl_udacity'"
      ]
     },
     "execution_count": 23,
     "metadata": {},
     "output_type": "execute_result"
    }
   ],
   "source": [
    "%pwd"
   ]
  },
  {
   "cell_type": "code",
   "execution_count": 2,
   "metadata": {
    "collapsed": true
   },
   "outputs": [],
   "source": [
    "# These are all the modules we'll be using later. Make sure you can import them\n",
    "# before proceeding further.\n",
    "from __future__ import print_function\n",
    "from six.moves  import cPickle as pickle\n",
    "from six.moves  import range\n",
    "\n",
    "import numpy      as np\n",
    "import tensorflow as tf\n"
   ]
  },
  {
   "cell_type": "markdown",
   "metadata": {},
   "source": [
    "First reload the data we generated in 1_notmnist.ipynb."
   ]
  },
  {
   "cell_type": "code",
   "execution_count": 3,
   "metadata": {},
   "outputs": [
    {
     "name": "stdout",
     "output_type": "stream",
     "text": [
      "Training set  : (200000, 28, 28) (200000,)\n",
      "Validation set: (10000, 28, 28) (10000,)\n",
      "Test set      : (10000, 28, 28) (10000,)\n"
     ]
    }
   ],
   "source": [
    "pickle_file = 'notMNIST.pickle'\n",
    "\n",
    "with open(pickle_file, 'rb') as f:\n",
    "  save          = pickle.load(f)\n",
    "  train_dataset = save[ 'train_dataset' ]\n",
    "  train_labels  = save[ 'train_labels'  ]\n",
    "  valid_dataset = save[ 'valid_dataset' ]\n",
    "  valid_labels  = save[ 'valid_labels'  ]\n",
    "  test_dataset  = save[ 'test_dataset'  ]\n",
    "  test_labels   = save[ 'test_labels'   ]\n",
    "\n",
    "  del save  # hint to help gc free up memory\n",
    "  print( 'Training set  :', train_dataset.shape, train_labels.shape )\n",
    "  print( 'Validation set:', valid_dataset.shape, valid_labels.shape )\n",
    "  print( 'Test set      :', test_dataset.shape , test_labels.shape  )"
   ]
  },
  {
   "cell_type": "code",
   "execution_count": 4,
   "metadata": {},
   "outputs": [
    {
     "name": "stdout",
     "output_type": "stream",
     "text": [
      "<class 'numpy.ndarray'>\n",
      "<class 'numpy.int32'>\n"
     ]
    }
   ],
   "source": [
    "print( type( train_dataset[ 0 ] ) )\n",
    "print( type( train_labels [ 0 ] ) )"
   ]
  },
  {
   "cell_type": "markdown",
   "metadata": {},
   "source": [
    "Reformat into a shape that's more adapted to the models we're going to train:\n",
    "\n",
    "* data as a flat matrix,\n",
    "* labels as float 1-hot encodings."
   ]
  },
  {
   "cell_type": "code",
   "execution_count": 5,
   "metadata": {},
   "outputs": [
    {
     "name": "stdout",
     "output_type": "stream",
     "text": [
      "Training set (200000, 784) (200000, 10)\n",
      "Validation set (10000, 784) (10000, 10)\n",
      "Test set (10000, 784) (10000, 10)\n"
     ]
    }
   ],
   "source": [
    "image_size = 28\n",
    "num_labels = 10\n",
    "\n",
    "def reformat(dataset, labels):\n",
    "  dataset = dataset.reshape((-1, image_size * image_size)).astype(np.float32)\n",
    "  # Map 0 to [1.0, 0.0, 0.0 ...], 1 to [0.0, 1.0, 0.0 ...]\n",
    "  labels  = (np.arange(num_labels) == labels[:,None]).astype(np.float32)\n",
    "  return dataset, labels\n",
    "\n",
    "train_dataset, train_labels = reformat( train_dataset, train_labels )\n",
    "valid_dataset, valid_labels = reformat( valid_dataset, valid_labels )\n",
    "test_dataset , test_labels  = reformat( test_dataset, test_labels   )\n",
    "\n",
    "print( 'Training set'  , train_dataset.shape, train_labels.shape )\n",
    "print( 'Validation set', valid_dataset.shape, valid_labels.shape )\n",
    "print( 'Test set'      , test_dataset.shape , test_labels.shape  )"
   ]
  },
  {
   "cell_type": "markdown",
   "metadata": {},
   "source": [
    "We're first going to train a multinomial logistic regression using simple gradient descent.\n",
    "TensorFlow works like this:\n",
    "\n",
    "* First you describe the computation that you want to see performed: what the inputs, the variables, and the operations look like. These get created as nodes over a computation graph. This description is all contained within the block below:\n",
    "\n",
    "   ```with graph.as_default():\n",
    "    ...```\n",
    "\n",
    "\n",
    "* Then you can run the operations on this graph as many times as you want by calling session.run(), providing it outputs to fetch from the graph that get returned. This runtime operation is all contained in the block below:\n",
    "\n",
    "   ```with tf.Session(graph=graph) as session:\n",
    "    ...```\n",
    "    \n",
    "Let's load all the data into TensorFlow and build the computation graph corresponding to our training:"
   ]
  },
  {
   "cell_type": "code",
   "execution_count": 6,
   "metadata": {
    "collapsed": true
   },
   "outputs": [],
   "source": [
    "# With gradient descent training, even this much data is prohibitive.\n",
    "# Subset the training data for faster turnaround.\n",
    "train_subset = 10000\n",
    "\n",
    "graph = tf.Graph()\n",
    "with graph.as_default():\n",
    "\n",
    "  # Input data.\n",
    "  # Load the training, validation and test data into constants that are\n",
    "  # attached to the graph.\n",
    "  tf_train_dataset = tf.constant( train_dataset[:train_subset, :] )\n",
    "  tf_train_labels  = tf.constant( train_labels[:train_subset]     )\n",
    "  tf_valid_dataset = tf.constant( valid_dataset                   )\n",
    "  tf_test_dataset  = tf.constant( test_dataset                    )\n",
    "  \n",
    "  # Variables.\n",
    "  # These are the parameters that we are going to be training. The weight\n",
    "  # matrix will be initialized using random values following a (truncated)\n",
    "  # normal distribution. The biases get initialized to zero.\n",
    "  weights = tf.Variable(\n",
    "    tf.truncated_normal([image_size * image_size, num_labels]))\n",
    "  biases = tf.Variable(tf.zeros([num_labels]))\n",
    "  \n",
    "  # Training computation.\n",
    "  # We multiply the inputs with the weight matrix, and add biases. We compute\n",
    "  # the softmax and cross-entropy (it's one operation in TensorFlow, because\n",
    "  # it's very common, and it can be optimized). We take the average of this\n",
    "  # cross-entropy across all training examples: that's our loss.\n",
    "  logits = tf.matmul(tf_train_dataset, weights) + biases\n",
    "  loss = tf.reduce_mean(\n",
    "    tf.nn.softmax_cross_entropy_with_logits(labels=tf_train_labels, logits=logits))\n",
    "  \n",
    "  # Optimizer.\n",
    "  # We are going to find the minimum of this loss using gradient descent.\n",
    "  optimizer = tf.train.GradientDescentOptimizer(0.5).minimize(loss)\n",
    "  \n",
    "  # Predictions for the training, validation, and test data.\n",
    "  # These are not part of training, but merely here so that we can report\n",
    "  # accuracy figures as we train.\n",
    "  train_prediction = tf.nn.softmax(logits)\n",
    "  valid_prediction = tf.nn.softmax(\n",
    "    tf.matmul(tf_valid_dataset, weights) + biases)\n",
    "  test_prediction = tf.nn.softmax(tf.matmul(tf_test_dataset, weights) + biases)"
   ]
  },
  {
   "cell_type": "markdown",
   "metadata": {},
   "source": [
    "#### first run"
   ]
  },
  {
   "cell_type": "markdown",
   "metadata": {},
   "source": [
    "Let's run this computation and iterate:"
   ]
  },
  {
   "cell_type": "code",
   "execution_count": 7,
   "metadata": {},
   "outputs": [
    {
     "name": "stdout",
     "output_type": "stream",
     "text": [
      "Initialized\n",
      "Loss at step 0: 18.110365\n",
      "Training accuracy: 8.0%\n",
      "Validation accuracy: 11.3%\n",
      "Loss at step 100: 2.284174\n",
      "Training accuracy: 72.2%\n",
      "Validation accuracy: 69.8%\n",
      "Loss at step 200: 1.829812\n",
      "Training accuracy: 75.4%\n",
      "Validation accuracy: 72.4%\n",
      "Loss at step 300: 1.594261\n",
      "Training accuracy: 76.7%\n",
      "Validation accuracy: 73.2%\n",
      "Loss at step 400: 1.437207\n",
      "Training accuracy: 77.5%\n",
      "Validation accuracy: 73.8%\n",
      "Loss at step 500: 1.320337\n",
      "Training accuracy: 78.0%\n",
      "Validation accuracy: 74.2%\n",
      "Loss at step 600: 1.228344\n",
      "Training accuracy: 78.6%\n",
      "Validation accuracy: 74.4%\n",
      "Loss at step 700: 1.153268\n",
      "Training accuracy: 79.2%\n",
      "Validation accuracy: 74.5%\n",
      "Loss at step 800: 1.090254\n",
      "Training accuracy: 79.7%\n",
      "Validation accuracy: 74.8%\n",
      "Test accuracy: 82.7%\n"
     ]
    }
   ],
   "source": [
    "num_steps = 801\n",
    "\n",
    "def accuracy(predictions, labels):\n",
    "  return ( 100.0 * np.sum( np.argmax(predictions, 1 ) == np.argmax(labels, 1) )\n",
    "          / predictions.shape[0])\n",
    "\n",
    "with tf.Session(graph=graph) as session:\n",
    "  # This is a one-time operation which ensures the parameters get initialized as\n",
    "  # we described in the graph: random weights for the matrix, zeros for the\n",
    "  # biases. \n",
    "  tf.global_variables_initializer().run()\n",
    "  print('Initialized')\n",
    "  for step in range(num_steps):\n",
    "    # Run the computations. We tell .run() that we want to run the optimizer,\n",
    "    # and get the loss value and the training predictions returned as numpy\n",
    "    # arrays.\n",
    "    _, l, predictions = session.run([optimizer, loss, train_prediction])\n",
    "    if (step % 100 == 0):\n",
    "      print('Loss at step %d: %f' % (step, l))\n",
    "      print('Training accuracy: %.1f%%' % accuracy(\n",
    "        predictions, train_labels[:train_subset, :]))\n",
    "      # Calling .eval() on valid_prediction is basically like calling run(), but\n",
    "      # just to get that one numpy array. Note that it recomputes all its graph\n",
    "      # dependencies.\n",
    "      print('Validation accuracy: %.1f%%' % accuracy(\n",
    "        valid_prediction.eval(), valid_labels))\n",
    "  print('Test accuracy: %.1f%%' % accuracy(test_prediction.eval(), test_labels))"
   ]
  },
  {
   "cell_type": "markdown",
   "metadata": {},
   "source": [
    "Let's now switch to stochastic gradient descent training instead, which is much faster.\n",
    "The graph will be similar, except that instead of holding all the training data into a constant node, we create a Placeholder node which will be fed actual data at every call of \n",
    "\n",
    "```session.run()```"
   ]
  },
  {
   "cell_type": "code",
   "execution_count": 10,
   "metadata": {
    "collapsed": true
   },
   "outputs": [],
   "source": [
    "batch_size = 128\n",
    "\n",
    "graph = tf.Graph()\n",
    "with graph.as_default():\n",
    "\n",
    "  # Input data. For the training data, we use a placeholder that will be fed\n",
    "  # at run time with a training minibatch.\n",
    "  tf_train_dataset = tf.placeholder( tf.float32,\n",
    "                                    shape=(batch_size, image_size * image_size))\n",
    "  tf_train_labels  = tf.placeholder( tf.float32, shape=(batch_size, num_labels))\n",
    "  tf_valid_dataset = tf.constant( valid_dataset )\n",
    "  tf_test_dataset  = tf.constant( test_dataset  )\n",
    "  \n",
    "  # Variables.\n",
    "  weights = tf.Variable(\n",
    "    tf.truncated_normal([image_size * image_size, num_labels]))\n",
    "  biases  = tf.Variable(tf.zeros([num_labels]))\n",
    "  \n",
    "  # Training computation.\n",
    "  logits = tf.matmul(tf_train_dataset, weights) + biases\n",
    "  loss   = tf.reduce_mean(\n",
    "    tf.nn.softmax_cross_entropy_with_logits(labels=tf_train_labels, logits=logits))\n",
    "  \n",
    "  # Optimizer.\n",
    "  optimizer = tf.train.GradientDescentOptimizer(0.5).minimize(loss)\n",
    "  \n",
    "  # Predictions for the training, validation, and test data.\n",
    "  train_prediction = tf.nn.softmax(logits)\n",
    "  valid_prediction = tf.nn.softmax(\n",
    "    tf.matmul(tf_valid_dataset, weights) + biases)\n",
    "  test_prediction = tf.nn.softmax(tf.matmul(tf_test_dataset, weights) + biases)"
   ]
  },
  {
   "cell_type": "code",
   "execution_count": 11,
   "metadata": {},
   "outputs": [
    {
     "name": "stdout",
     "output_type": "stream",
     "text": [
      "batch_size: 128\n",
      "train_labels.shape[0]: 200,000 \n",
      "(train_labels.shape[0] - batch_size): 199,872 \n"
     ]
    }
   ],
   "source": [
    "print( 'batch_size: {0}'.format( batch_size ) )\n",
    "print( 'train_labels.shape[0]: {:,} '.format( train_labels.shape[0] ) )\n",
    "print(  '(train_labels.shape[0] - batch_size): {:,} '.format( (train_labels.shape[0] - batch_size) ) )"
   ]
  },
  {
   "cell_type": "markdown",
   "metadata": {},
   "source": [
    "Let's run it:"
   ]
  },
  {
   "cell_type": "code",
   "execution_count": 12,
   "metadata": {},
   "outputs": [
    {
     "name": "stdout",
     "output_type": "stream",
     "text": [
      "Initialized\n",
      "Minibatch loss at step 0: 17.320940\n",
      "Minibatch accuracy: 7.8%\n",
      "Validation accuracy: 9.0%\n",
      "Minibatch loss at step 500: 1.457492\n",
      "Minibatch accuracy: 77.3%\n",
      "Validation accuracy: 75.2%\n",
      "Minibatch loss at step 1000: 1.510089\n",
      "Minibatch accuracy: 78.1%\n",
      "Validation accuracy: 76.6%\n",
      "Minibatch loss at step 1500: 0.828183\n",
      "Minibatch accuracy: 80.5%\n",
      "Validation accuracy: 77.0%\n",
      "Minibatch loss at step 2000: 0.783964\n",
      "Minibatch accuracy: 85.9%\n",
      "Validation accuracy: 77.5%\n",
      "Minibatch loss at step 2500: 1.074346\n",
      "Minibatch accuracy: 72.7%\n",
      "Validation accuracy: 77.8%\n",
      "Minibatch loss at step 3000: 0.937889\n",
      "Minibatch accuracy: 80.5%\n",
      "Validation accuracy: 78.8%\n",
      "Test accuracy: 86.5%\n"
     ]
    }
   ],
   "source": [
    "num_steps = 3001\n",
    "\n",
    "with tf.Session(graph=graph) as session:\n",
    "  tf.global_variables_initializer().run()\n",
    "  print(\"Initialized\")\n",
    "  for step in range(num_steps):\n",
    "    # Pick an offset within the training data, which has been randomized.\n",
    "    # Note: we could use better randomization across epochs.\n",
    "    offset = (step * batch_size) % (train_labels.shape[0] - batch_size)\n",
    "    #print( 'step: {0}, offset: {1}'.format( step, offset ) )\n",
    "    \n",
    "    \n",
    "    # Generate a minibatch.\n",
    "    batch_data   = train_dataset[offset:(offset + batch_size), :]\n",
    "    batch_labels = train_labels[offset:(offset + batch_size), :]\n",
    "    \n",
    "    # Prepare a dictionary telling the session where to feed the minibatch.\n",
    "    # The key of the dictionary is the placeholder node of the graph to be fed,\n",
    "    # and the value is the numpy array to feed to it.\n",
    "    feed_dict = {tf_train_dataset : batch_data, tf_train_labels : batch_labels}\n",
    "    _, l, predictions = session.run(\n",
    "      [optimizer, loss, train_prediction], feed_dict=feed_dict)\n",
    "    \n",
    "    if (step % 500 == 0):\n",
    "      print(\"Minibatch loss at step %d: %f\" % (step, l))\n",
    "      print(\"Minibatch accuracy: %.1f%%\" % accuracy(predictions, batch_labels))\n",
    "      print(\"Validation accuracy: %.1f%%\" % accuracy(\n",
    "        valid_prediction.eval(), valid_labels))\n",
    "    \n",
    "  print(\"Test accuracy: %.1f%%\" % accuracy(test_prediction.eval(), test_labels))"
   ]
  },
  {
   "cell_type": "markdown",
   "metadata": {},
   "source": [
    "---\n",
    "<hr>"
   ]
  },
  {
   "cell_type": "markdown",
   "metadata": {},
   "source": [
    "### Problem\n",
    "Turn the logistic regression example with SGD into a 1-hidden layer neural network with rectified linear units nn.relu() and 1024 hidden nodes. This model should improve your validation / test accuracy."
   ]
  },
  {
   "cell_type": "markdown",
   "metadata": {},
   "source": [
    "###  the graph visualization"
   ]
  },
  {
   "cell_type": "code",
   "execution_count": 22,
   "metadata": {},
   "outputs": [
    {
     "data": {
      "image/svg+xml": [
       "<?xml version=\"1.0\" encoding=\"UTF-8\" standalone=\"no\"?>\r\n",
       "<!DOCTYPE svg PUBLIC \"-//W3C//DTD SVG 1.1//EN\"\r\n",
       " \"http://www.w3.org/Graphics/SVG/1.1/DTD/svg11.dtd\">\r\n",
       "<!-- Generated by graphviz version 2.38.0 (20140413.2041)\r\n",
       " -->\r\n",
       "<!-- Title: %3 Pages: 1 -->\r\n",
       "<svg width=\"364pt\" height=\"404pt\"\r\n",
       " viewBox=\"0.00 0.00 364.44 404.00\" xmlns=\"http://www.w3.org/2000/svg\" xmlns:xlink=\"http://www.w3.org/1999/xlink\">\r\n",
       "<g id=\"graph0\" class=\"graph\" transform=\"scale(1 1) rotate(0) translate(4 400)\">\r\n",
       "<title>%3</title>\r\n",
       "<polygon fill=\"white\" stroke=\"none\" points=\"-4,4 -4,-400 360.441,-400 360.441,4 -4,4\"/>\r\n",
       "<!-- X -->\r\n",
       "<g id=\"node1\" class=\"node\"><title>X</title>\r\n",
       "<ellipse fill=\"none\" stroke=\"black\" cx=\"57.1949\" cy=\"-378\" rx=\"57.3905\" ry=\"18\"/>\r\n",
       "<text text-anchor=\"middle\" x=\"57.1949\" y=\"-374.3\" font-family=\"Times New Roman,serif\" font-size=\"14.00\">training_data</text>\r\n",
       "</g>\r\n",
       "<!-- m1 -->\r\n",
       "<g id=\"node3\" class=\"node\"><title>m1</title>\r\n",
       "<ellipse fill=\"none\" stroke=\"black\" cx=\"116.195\" cy=\"-306\" rx=\"46.2923\" ry=\"18\"/>\r\n",
       "<text text-anchor=\"middle\" x=\"116.195\" y=\"-302.3\" font-family=\"Times New Roman,serif\" font-size=\"14.00\">matmul_1</text>\r\n",
       "</g>\r\n",
       "<!-- X&#45;&gt;m1 -->\r\n",
       "<g id=\"edge1\" class=\"edge\"><title>X&#45;&gt;m1</title>\r\n",
       "<path fill=\"none\" stroke=\"black\" d=\"M71.1771,-360.411C78.5248,-351.693 87.6681,-340.845 95.7913,-331.208\"/>\r\n",
       "<polygon fill=\"black\" stroke=\"black\" points=\"98.5446,-333.372 102.313,-323.47 93.1922,-328.861 98.5446,-333.372\"/>\r\n",
       "</g>\r\n",
       "<!-- w1 -->\r\n",
       "<g id=\"node2\" class=\"node\"><title>w1</title>\r\n",
       "<ellipse fill=\"none\" stroke=\"black\" cx=\"176.195\" cy=\"-378\" rx=\"43.5923\" ry=\"18\"/>\r\n",
       "<text text-anchor=\"middle\" x=\"176.195\" y=\"-374.3\" font-family=\"Times New Roman,serif\" font-size=\"14.00\">weight_1</text>\r\n",
       "</g>\r\n",
       "<!-- w1&#45;&gt;m1 -->\r\n",
       "<g id=\"edge2\" class=\"edge\"><title>w1&#45;&gt;m1</title>\r\n",
       "<path fill=\"none\" stroke=\"black\" d=\"M162.279,-360.765C154.814,-352.056 145.464,-341.147 137.139,-331.435\"/>\r\n",
       "<polygon fill=\"black\" stroke=\"black\" points=\"139.617,-328.948 130.452,-323.633 134.303,-333.504 139.617,-328.948\"/>\r\n",
       "</g>\r\n",
       "<!-- layer_1 -->\r\n",
       "<g id=\"node5\" class=\"node\"><title>layer_1</title>\r\n",
       "<ellipse fill=\"none\" stroke=\"black\" cx=\"169.195\" cy=\"-234\" rx=\"37.0935\" ry=\"18\"/>\r\n",
       "<text text-anchor=\"middle\" x=\"169.195\" y=\"-230.3\" font-family=\"Times New Roman,serif\" font-size=\"14.00\">layer_1</text>\r\n",
       "</g>\r\n",
       "<!-- m1&#45;&gt;layer_1 -->\r\n",
       "<g id=\"edge3\" class=\"edge\"><title>m1&#45;&gt;layer_1</title>\r\n",
       "<path fill=\"none\" stroke=\"black\" d=\"M128.755,-288.411C135.29,-279.781 143.405,-269.062 150.647,-259.497\"/>\r\n",
       "<polygon fill=\"black\" stroke=\"black\" points=\"153.479,-261.555 156.725,-251.47 147.898,-257.33 153.479,-261.555\"/>\r\n",
       "</g>\r\n",
       "<!-- biases_1 -->\r\n",
       "<g id=\"node4\" class=\"node\"><title>biases_1</title>\r\n",
       "<ellipse fill=\"none\" stroke=\"black\" cx=\"222.195\" cy=\"-306\" rx=\"42.4939\" ry=\"18\"/>\r\n",
       "<text text-anchor=\"middle\" x=\"222.195\" y=\"-302.3\" font-family=\"Times New Roman,serif\" font-size=\"14.00\">biases_1</text>\r\n",
       "</g>\r\n",
       "<!-- biases_1&#45;&gt;layer_1 -->\r\n",
       "<g id=\"edge4\" class=\"edge\"><title>biases_1&#45;&gt;layer_1</title>\r\n",
       "<path fill=\"none\" stroke=\"black\" d=\"M209.902,-288.765C203.28,-280.018 194.977,-269.052 187.6,-259.308\"/>\r\n",
       "<polygon fill=\"black\" stroke=\"black\" points=\"190.248,-257.007 181.421,-251.147 184.667,-261.233 190.248,-257.007\"/>\r\n",
       "</g>\r\n",
       "<!-- layer_2 -->\r\n",
       "<g id=\"node9\" class=\"node\"><title>layer_2</title>\r\n",
       "<ellipse fill=\"none\" stroke=\"black\" cx=\"169.195\" cy=\"-162\" rx=\"55.4913\" ry=\"18\"/>\r\n",
       "<text text-anchor=\"middle\" x=\"169.195\" y=\"-158.3\" font-family=\"Times New Roman,serif\" font-size=\"14.00\">layer_2_relu</text>\r\n",
       "</g>\r\n",
       "<!-- layer_1&#45;&gt;layer_2 -->\r\n",
       "<g id=\"edge5\" class=\"edge\"><title>layer_1&#45;&gt;layer_2</title>\r\n",
       "<path fill=\"none\" stroke=\"black\" d=\"M169.195,-215.697C169.195,-207.983 169.195,-198.712 169.195,-190.112\"/>\r\n",
       "<polygon fill=\"black\" stroke=\"black\" points=\"172.695,-190.104 169.195,-180.104 165.695,-190.104 172.695,-190.104\"/>\r\n",
       "</g>\r\n",
       "<!-- w2 -->\r\n",
       "<g id=\"node6\" class=\"node\"><title>w2</title>\r\n",
       "<ellipse fill=\"none\" stroke=\"black\" cx=\"286.195\" cy=\"-162\" rx=\"43.5923\" ry=\"18\"/>\r\n",
       "<text text-anchor=\"middle\" x=\"286.195\" y=\"-158.3\" font-family=\"Times New Roman,serif\" font-size=\"14.00\">weight_2</text>\r\n",
       "</g>\r\n",
       "<!-- m2 -->\r\n",
       "<g id=\"node7\" class=\"node\"><title>m2</title>\r\n",
       "<ellipse fill=\"none\" stroke=\"black\" cx=\"227.195\" cy=\"-90\" rx=\"27\" ry=\"18\"/>\r\n",
       "<text text-anchor=\"middle\" x=\"227.195\" y=\"-86.3\" font-family=\"Times New Roman,serif\" font-size=\"14.00\">m2</text>\r\n",
       "</g>\r\n",
       "<!-- w2&#45;&gt;m2 -->\r\n",
       "<g id=\"edge7\" class=\"edge\"><title>w2&#45;&gt;m2</title>\r\n",
       "<path fill=\"none\" stroke=\"black\" d=\"M272.511,-144.765C264.775,-135.586 254.979,-123.964 246.475,-113.875\"/>\r\n",
       "<polygon fill=\"black\" stroke=\"black\" points=\"249.118,-111.58 239.997,-106.189 243.766,-116.091 249.118,-111.58\"/>\r\n",
       "</g>\r\n",
       "<!-- layer_3 -->\r\n",
       "<g id=\"node10\" class=\"node\"><title>layer_3</title>\r\n",
       "<ellipse fill=\"none\" stroke=\"black\" cx=\"270.195\" cy=\"-18\" rx=\"37.0935\" ry=\"18\"/>\r\n",
       "<text text-anchor=\"middle\" x=\"270.195\" y=\"-14.3\" font-family=\"Times New Roman,serif\" font-size=\"14.00\">layer_3</text>\r\n",
       "</g>\r\n",
       "<!-- m2&#45;&gt;layer_3 -->\r\n",
       "<g id=\"edge8\" class=\"edge\"><title>m2&#45;&gt;layer_3</title>\r\n",
       "<path fill=\"none\" stroke=\"black\" d=\"M236.952,-73.1159C242.135,-64.679 248.631,-54.1044 254.502,-44.5465\"/>\r\n",
       "<polygon fill=\"black\" stroke=\"black\" points=\"257.625,-46.1501 259.877,-35.7973 251.66,-42.4861 257.625,-46.1501\"/>\r\n",
       "</g>\r\n",
       "<!-- biases_2 -->\r\n",
       "<g id=\"node8\" class=\"node\"><title>biases_2</title>\r\n",
       "<ellipse fill=\"none\" stroke=\"black\" cx=\"314.195\" cy=\"-90\" rx=\"42.4939\" ry=\"18\"/>\r\n",
       "<text text-anchor=\"middle\" x=\"314.195\" y=\"-86.3\" font-family=\"Times New Roman,serif\" font-size=\"14.00\">biases_2</text>\r\n",
       "</g>\r\n",
       "<!-- biases_2&#45;&gt;layer_3 -->\r\n",
       "<g id=\"edge9\" class=\"edge\"><title>biases_2&#45;&gt;layer_3</title>\r\n",
       "<path fill=\"none\" stroke=\"black\" d=\"M303.768,-72.411C298.452,-63.9549 291.877,-53.4944 285.958,-44.0783\"/>\r\n",
       "<polygon fill=\"black\" stroke=\"black\" points=\"288.832,-42.0737 280.547,-35.4699 282.906,-45.7989 288.832,-42.0737\"/>\r\n",
       "</g>\r\n",
       "<!-- layer_2&#45;&gt;m2 -->\r\n",
       "<g id=\"edge6\" class=\"edge\"><title>layer_2&#45;&gt;m2</title>\r\n",
       "<path fill=\"none\" stroke=\"black\" d=\"M182.94,-144.411C190.477,-135.314 199.937,-123.898 208.173,-113.958\"/>\r\n",
       "<polygon fill=\"black\" stroke=\"black\" points=\"211.05,-115.972 214.735,-106.038 205.659,-111.505 211.05,-115.972\"/>\r\n",
       "</g>\r\n",
       "</g>\r\n",
       "</svg>\r\n"
      ],
      "text/plain": [
       "<graphviz.dot.Digraph at 0x1d96f251dd8>"
      ]
     },
     "execution_count": 22,
     "metadata": {},
     "output_type": "execute_result"
    }
   ],
   "source": [
    "from graphviz import Digraph\n",
    "\n",
    "dot = Digraph(comment='The Round Table')\n",
    "\n",
    "dot.node('X'       , 'training_data')\n",
    "dot.node('w1'      , 'weight_1')\n",
    "dot.node('m1'      , 'matmul_1')\n",
    "\n",
    "dot.node('biases_1', 'biases_1')\n",
    "dot.node('layer_1' , 'layer_1')\n",
    "\n",
    "\n",
    "dot.edge('X'       ,  'm1'    )\n",
    "dot.edge('w1'      , 'm1'    )\n",
    "dot.edge('m1'      , 'layer_1')\n",
    "dot.edge('biases_1', 'layer_1')\n",
    "#dot.edge('biases_1', 'layer1', constraint='true')\n",
    "\n",
    "# layer 2\n",
    "dot.node('w2'      , 'weight_2')\n",
    "dot.node('m2'      , 'm2')\n",
    "dot.node('biases_2', 'biases_2')\n",
    "dot.node('layer_2' , 'layer_2_relu')\n",
    "\n",
    "dot.edge('layer_1' ,  'layer_2'    )\n",
    "dot.edge('layer_2' ,  'm2'    )\n",
    "\n",
    "dot.edge('w2'      , 'm2'    )\n",
    "dot.edge('m2'      , 'layer_3')\n",
    "dot.edge('biases_2', 'layer_3')\n",
    "\n",
    "dot.node('layer_3' , 'layer_3')\n",
    "\n",
    "# display image\n",
    "dot"
   ]
  },
  {
   "cell_type": "markdown",
   "metadata": {
    "collapsed": true
   },
   "source": [
    "#### create graph"
   ]
  },
  {
   "cell_type": "code",
   "execution_count": 20,
   "metadata": {
    "collapsed": true
   },
   "outputs": [],
   "source": [
    "#SGD with relu\n",
    "batch_size = 128\n",
    "relu_count = 1024 #hidden nodes count\n",
    "\n",
    "graph = tf.Graph()\n",
    "with graph.as_default():\n",
    "\n",
    "  # Input data. For the training data, we use a placeholder that will be fed\n",
    "  # at run time with a training minibatch.\n",
    "  tf_train_dataset = tf.placeholder(tf.float32,\n",
    "                                    shape=(batch_size, image_size * image_size))\n",
    "  tf_train_labels = tf.placeholder(tf.float32, shape=(batch_size, num_labels))\n",
    "  tf_valid_dataset = tf.constant(valid_dataset)\n",
    "  tf_test_dataset = tf.constant(test_dataset)\n",
    "  \n",
    "\n",
    "    # Variables.\n",
    "  weights_1 = tf.Variable(\n",
    "    tf.truncated_normal([image_size * image_size, relu_count]))\n",
    "  biases_1 = tf.Variable(tf.zeros([relu_count]))\n",
    "    \n",
    "  # send relu to final nn layer\n",
    "  weights_2 = tf.Variable(\n",
    "    tf.truncated_normal([relu_count, num_labels]))\n",
    "\n",
    "  biases_2 = tf.Variable(tf.zeros([num_labels]))\n",
    "\n",
    "  # Training computation. (#layer_1 -> layer_2(relu) -> layer_3)\n",
    "  logits = tf.matmul( tf.nn.relu(tf.matmul(tf_train_dataset, weights_1) + biases_1), weights_2) + biases_2\n",
    "\n",
    "'''\n",
    "  logits = tf.matmul( \n",
    "                      tf.nn.relu(\n",
    "                                  tf.matmul(tf_train_dataset, weights_1) + biases_1\n",
    "                                ), \n",
    "                      weights_2) \n",
    "         + biases_2\n",
    "'''\n",
    "\n",
    "\n",
    "  loss = tf.reduce_mean(\n",
    "    tf.nn.softmax_cross_entropy_with_logits( labels = tf_train_labels, logits = logits ))\n",
    "\n",
    "\n",
    "\n",
    "  # Optimizer.\n",
    "  optimizer = tf.train.GradientDescentOptimizer(0.5).minimize(loss)\n",
    "  \n",
    "  # Predictions for the training, validation, and test data.\n",
    "  train_prediction = tf.nn.softmax(logits)\n",
    "  valid_prediction = tf.nn.softmax(\n",
    "    tf.matmul( tf.nn.relu(tf.matmul(tf_valid_dataset, weights_1) + biases_1), weights_2) + biases_2)\n",
    "  test_prediction = tf.nn.softmax(\n",
    "        tf.matmul( tf.nn.relu(tf.matmul(tf_test_dataset, weights_1) + biases_1), weights_2) + biases_2)"
   ]
  },
  {
   "cell_type": "markdown",
   "metadata": {},
   "source": [
    "#### run sesion"
   ]
  },
  {
   "cell_type": "code",
   "execution_count": 21,
   "metadata": {},
   "outputs": [
    {
     "name": "stdout",
     "output_type": "stream",
     "text": [
      "WARNING:tensorflow:From C:\\aat\\Anaconda3\\lib\\site-packages\\tensorflow\\python\\util\\tf_should_use.py:175: initialize_all_variables (from tensorflow.python.ops.variables) is deprecated and will be removed after 2017-03-02.\n",
      "Instructions for updating:\n",
      "Use `tf.global_variables_initializer` instead.\n",
      "Initialized\n",
      "Minibatch loss at step 0: 367.766266\n",
      "Minibatch accuracy: 5.5%\n",
      "Validation accuracy: 25.7%\n",
      "Minibatch loss at step 500: 20.438694\n",
      "Minibatch accuracy: 75.8%\n",
      "Validation accuracy: 79.0%\n",
      "Minibatch loss at step 1000: 12.204794\n",
      "Minibatch accuracy: 78.9%\n",
      "Validation accuracy: 80.2%\n",
      "Minibatch loss at step 1500: 6.139073\n",
      "Minibatch accuracy: 85.2%\n",
      "Validation accuracy: 79.9%\n",
      "Minibatch loss at step 2000: 3.440598\n",
      "Minibatch accuracy: 89.1%\n",
      "Validation accuracy: 81.4%\n",
      "Minibatch loss at step 2500: 2.014385\n",
      "Minibatch accuracy: 87.5%\n",
      "Validation accuracy: 81.3%\n",
      "Minibatch loss at step 3000: 3.027340\n",
      "Minibatch accuracy: 78.9%\n",
      "Validation accuracy: 82.2%\n",
      "Minibatch loss at step 3500: 6.011634\n",
      "Minibatch accuracy: 80.5%\n",
      "Validation accuracy: 82.4%\n",
      "Minibatch loss at step 4000: 4.155736\n",
      "Minibatch accuracy: 82.0%\n",
      "Validation accuracy: 80.2%\n",
      "Minibatch loss at step 4500: 4.657096\n",
      "Minibatch accuracy: 85.9%\n",
      "Validation accuracy: 81.3%\n",
      "Test accuracy: 89.9%\n"
     ]
    }
   ],
   "source": [
    "num_steps = 5000\n",
    "\n",
    "with tf.Session(graph=graph) as session:\n",
    "  tf.initialize_all_variables().run()\n",
    "  print(\"Initialized\")\n",
    "  for step in range(num_steps):\n",
    "    # Pick an offset within the training data, which has been randomized.\n",
    "    # Note: we could use better randomization across epochs.\n",
    "    offset = (step * batch_size) % (train_labels.shape[0] - batch_size)\n",
    "    \n",
    "    # Generate a minibatch.\n",
    "    batch_data = train_dataset[offset:(offset + batch_size), :]\n",
    "    batch_labels = train_labels[offset:(offset + batch_size), :]\n",
    "    \n",
    "    # Prepare a dictionary telling the session where to feed the minibatch.\n",
    "    # The key of the dictionary is the placeholder node of the graph to be fed,\n",
    "    # and the value is the numpy array to feed to it.\n",
    "    feed_dict = {tf_train_dataset : batch_data, tf_train_labels : batch_labels}\n",
    "    _, l, predictions = session.run(\n",
    "      [optimizer, loss, train_prediction], feed_dict=feed_dict)\n",
    "    \n",
    "    if (step % 500 == 0):\n",
    "      print(\"Minibatch loss at step %d: %f\" % (step, l))\n",
    "      print(\"Minibatch accuracy: %.1f%%\" % accuracy(predictions, batch_labels))\n",
    "      print(\"Validation accuracy: %.1f%%\" % accuracy(\n",
    "        valid_prediction.eval(), valid_labels))\n",
    "    \n",
    "  print(\"Test accuracy: %.1f%%\" % accuracy(test_prediction.eval(), test_labels))"
   ]
  },
  {
   "cell_type": "markdown",
   "metadata": {},
   "source": [
    "#### references"
   ]
  },
  {
   "cell_type": "markdown",
   "metadata": {},
   "source": [
    "Deep Learning by Google\n",
    "* https://www.udacity.com/course/deep-learning--ud730\n",
    "\n",
    "Github repository used for the course\n",
    "* https://github.com/tensorflow/tensorflow/tree/master/tensorflow/examples/udacity\n",
    "\n",
    "not MNIST dataset\n",
    "* http://yaroslavvb.blogspot.mx/2011/09/notmnist-dataset.html\n",
    "* http://yaroslavvb.com/upload/notMNIST/\n",
    " \n",
    "THE MNIST DATABASE\n",
    "* http://yann.lecun.com/exdb/mnist/\n",
    "\n",
    "Plotting multiple images\n",
    "* http://nbviewer.jupyter.org/gist/minrk/7076095\n",
    "\n",
    "other students\n",
    "* https://github.com/sdurgi17/udacity-deep-learning/blob/master/\n",
    "\n",
    "* https://github.com/rndbrtrnd/udacity-deep-learning/blob/master/"
   ]
  },
  {
   "cell_type": "code",
   "execution_count": null,
   "metadata": {
    "collapsed": true
   },
   "outputs": [],
   "source": []
  }
 ],
 "metadata": {
  "kernelspec": {
   "display_name": "Python 3",
   "language": "python",
   "name": "python3"
  },
  "language_info": {
   "codemirror_mode": {
    "name": "ipython",
    "version": 3
   },
   "file_extension": ".py",
   "mimetype": "text/x-python",
   "name": "python",
   "nbconvert_exporter": "python",
   "pygments_lexer": "ipython3",
   "version": "3.6.1"
  }
 },
 "nbformat": 4,
 "nbformat_minor": 2
}
