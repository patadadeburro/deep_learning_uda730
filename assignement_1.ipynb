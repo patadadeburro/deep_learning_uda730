{
 "cells": [
  {
   "cell_type": "markdown",
   "metadata": {},
   "source": [
    "<style>\n",
    "table, th, td {\n",
    "    border: 1px solid black;\n",
    "}\n",
    "</style>\n",
    "\n",
    "<table style=\"width:100%\" >\n",
    "\n",
    "  <tr >\n",
    "    <th align=\"center\">Tensorflow</th>\n",
    "    <th align=\"center\">python</th>\n",
    "    <th align=\"center\">google</th>\n",
    "    <th align=\"center\">udacity</th>\n",
    "  </tr>\n",
    "\n",
    "  <tr>\n",
    "    <td>\n",
    "      <img src=\"https://upload.wikimedia.org/wikipedia/commons/a/a4/TensorFlowLogo.png\" height=\"200\" width=\"200\" />\n",
    "    </td>\n",
    "    <td>\n",
    "      <img src=\"http://spark-mooc.github.io/web-assets/images/python-logo-master-v3-TM-flattened_small.png\" height=\"200\" width=\"200\" />\n",
    "    </td>\n",
    "    <td>\n",
    "      <img src=\"https://www.blog.google/static/blog/images/google-200x200.7714256da16f.png\" height=\"200\" width=\"200\" />\n",
    "    </td>\n",
    "    <td>\n",
    "      <img src=\"https://d125fmws0bore1.cloudfront.net/assets/udacity_share-317a7f82552763598a5c91e1550b7cd83663ce02d6d475d703e25a873cd3b574.png\" height=\"200\" width=\"200\" />\n",
    "    </td>\n",
    "  </tr>\n",
    "\n",
    "\n",
    "</table>\n"
   ]
  },
  {
   "cell_type": "markdown",
   "metadata": {},
   "source": [
    "# Deep Learning - my Notes.\n",
    "## Arturo Alatriste Trujillo"
   ]
  },
  {
   "cell_type": "markdown",
   "metadata": {},
   "source": [
    "# Deep Learning\n",
    "\n",
    "#### Assignment 1\n",
    "The objective of this assignment is to learn about simple data curation practices, and familiarize you with some of the data we'll be reusing later.\n",
    "\n",
    "This notebook uses the notMNIST dataset to be used with python experiments. This dataset is designed to look like the classic MNIST dataset, while looking a little more like real data: it's a harder task, and the data is a lot less 'clean' than MNIST."
   ]
  },
  {
   "cell_type": "code",
   "execution_count": 1,
   "metadata": {},
   "outputs": [
    {
     "data": {
      "text/plain": [
       "'C:\\\\Users\\\\a.alatriste.trujillo\\\\dl_udacity'"
      ]
     },
     "execution_count": 1,
     "metadata": {},
     "output_type": "execute_result"
    }
   ],
   "source": [
    "%pwd"
   ]
  },
  {
   "cell_type": "code",
   "execution_count": 2,
   "metadata": {
    "collapsed": true
   },
   "outputs": [],
   "source": [
    "# These are all the modules we'll be using later. Make sure you can import them\n",
    "# before proceeding further.\n",
    "from __future__ import print_function\n",
    "\n",
    "import datetime\n",
    "import PIL\n",
    "import matplotlib.pyplot as plt\n",
    "import numpy as np\n",
    "import os\n",
    "import sys\n",
    "import tarfile\n",
    "import time\n",
    "\n",
    "from glob                     import glob\n",
    "from IPython.display          import display, Image\n",
    "from os.path                  import join\n",
    "from os                       import listdir\n",
    "from os.path                  import isfile, join\n",
    "from scipy                    import ndimage\n",
    "from sklearn.linear_model     import LogisticRegression\n",
    "from six.moves.urllib.request import urlretrieve\n",
    "from six.moves                import cPickle as pickle\n",
    "\n",
    "# Config the matplotlib backend as plotting inline in IPython\n",
    "%matplotlib inline"
   ]
  },
  {
   "cell_type": "markdown",
   "metadata": {},
   "source": [
    "First, we'll download the dataset to our local machine. The data consists of characters rendered in a variety of fonts on a 28x28 image. The labels are limited to 'A' through 'J' (10 classes). The training set has about 500k and the testset 19000 labeled examples. Given these sizes, it should be possible to train models quickly on any machine."
   ]
  },
  {
   "cell_type": "markdown",
   "metadata": {},
   "source": [
    "#### download"
   ]
  },
  {
   "cell_type": "code",
   "execution_count": 3,
   "metadata": {},
   "outputs": [
    {
     "name": "stdout",
     "output_type": "stream",
     "text": [
      "Found and verified .\\notMNIST_large.tar.gz\n",
      "Found and verified .\\notMNIST_small.tar.gz\n",
      "processTime: 0:00:00\n"
     ]
    }
   ],
   "source": [
    "startTime   = time.time()\n",
    "\n",
    "\n",
    "\n",
    "url = 'https://commondatastorage.googleapis.com/books1000/'\n",
    "last_percent_reported = None\n",
    "data_root = '.' # Change me to store data elsewhere\n",
    "\n",
    "def download_progress_hook(count, blockSize, totalSize):\n",
    "  \"\"\"A hook to report the progress of a download. This is mostly intended for users with\n",
    "  slow internet connections. Reports every 5% change in download progress.\n",
    "  \"\"\"\n",
    "  global last_percent_reported\n",
    "  percent = int(count * blockSize * 100 / totalSize)\n",
    "\n",
    "  if last_percent_reported != percent:\n",
    "    if percent % 5 == 0:\n",
    "      sys.stdout.write(\"%s%%\" % percent)\n",
    "      sys.stdout.flush()\n",
    "    else:\n",
    "      sys.stdout.write(\".\")\n",
    "      sys.stdout.flush()\n",
    "      \n",
    "    last_percent_reported = percent\n",
    "        \n",
    "def maybe_download(filename, expected_bytes, force=False):\n",
    "  \"\"\"Download a file if not present, and make sure it's the right size.\"\"\"\n",
    "  dest_filename = os.path.join(data_root, filename)\n",
    "  if force or not os.path.exists(dest_filename):\n",
    "    print('Attempting to download:', filename) \n",
    "    filename, _ = urlretrieve(url + filename, dest_filename, reporthook=download_progress_hook)\n",
    "    print('\\nDownload Complete!')\n",
    "  statinfo = os.stat(dest_filename)\n",
    "  if statinfo.st_size == expected_bytes:\n",
    "    print('Found and verified', dest_filename)\n",
    "  else:\n",
    "    raise Exception(\n",
    "      'Failed to verify ' + dest_filename + '. Can you get to it with a browser?')\n",
    "  return dest_filename\n",
    "\n",
    "train_filename = maybe_download('notMNIST_large.tar.gz', 247336696)\n",
    "test_filename = maybe_download('notMNIST_small.tar.gz', 8458043)\n",
    "\n",
    "# print time to complete this cell\n",
    "endTime     = time.time()\n",
    "processTime = endTime - startTime\n",
    "#print ( 'processTime: {0} seconds'.format( processTime ) )\n",
    "print( 'processTime: {0}'.format( datetime.timedelta( seconds = processTime ) ) )\n"
   ]
  },
  {
   "cell_type": "markdown",
   "metadata": {},
   "source": [
    "Extract the dataset from the compressed .tar.gz file. This should give you a set of directories, labeled A through J."
   ]
  },
  {
   "cell_type": "markdown",
   "metadata": {},
   "source": [
    "#### print - downlod vars"
   ]
  },
  {
   "cell_type": "code",
   "execution_count": 4,
   "metadata": {},
   "outputs": [
    {
     "name": "stdout",
     "output_type": "stream",
     "text": [
      "url                   : https://commondatastorage.googleapis.com/books1000/\n",
      "last_percent_reported : None\n",
      "data_root             : .\n",
      "train_filename        : .\\notMNIST_large.tar.gz\n",
      "test_filename         : .\\notMNIST_small.tar.gz\n"
     ]
    }
   ],
   "source": [
    "print( 'url                   : {0}'.format( url ) )\n",
    "print( 'last_percent_reported : {0}'.format( last_percent_reported ) )\n",
    "print( 'data_root             : {0}'.format( data_root ) )\n",
    "\n",
    "print( 'train_filename        : {0}'.format( train_filename ) )\n",
    "print( 'test_filename         : {0}'.format( test_filename ) )\n",
    "\n",
    " \n"
   ]
  },
  {
   "cell_type": "markdown",
   "metadata": {},
   "source": [
    "#### extract"
   ]
  },
  {
   "cell_type": "code",
   "execution_count": 5,
   "metadata": {},
   "outputs": [
    {
     "name": "stdout",
     "output_type": "stream",
     "text": [
      ".\\notMNIST_large already present - Skipping extraction of .\\notMNIST_large.tar.gz.\n",
      "data_folders: ['.\\\\notMNIST_large\\\\A', '.\\\\notMNIST_large\\\\B', '.\\\\notMNIST_large\\\\C', '.\\\\notMNIST_large\\\\D', '.\\\\notMNIST_large\\\\E', '.\\\\notMNIST_large\\\\F', '.\\\\notMNIST_large\\\\G', '.\\\\notMNIST_large\\\\H', '.\\\\notMNIST_large\\\\I', '.\\\\notMNIST_large\\\\J'] \n",
      "\n",
      ".\\notMNIST_small already present - Skipping extraction of .\\notMNIST_small.tar.gz.\n",
      "data_folders: ['.\\\\notMNIST_small\\\\A', '.\\\\notMNIST_small\\\\B', '.\\\\notMNIST_small\\\\C', '.\\\\notMNIST_small\\\\D', '.\\\\notMNIST_small\\\\E', '.\\\\notMNIST_small\\\\F', '.\\\\notMNIST_small\\\\G', '.\\\\notMNIST_small\\\\H', '.\\\\notMNIST_small\\\\I', '.\\\\notMNIST_small\\\\J'] \n",
      "\n",
      "\n",
      "\n",
      " extraction... finished. \n",
      "\n",
      "\n",
      "processTime: 0:00:00.015618\n"
     ]
    }
   ],
   "source": [
    "startTime   = time.time()\n",
    "\n",
    "num_classes = 10\n",
    "np.random.seed(133)\n",
    "\n",
    "def maybe_extract(filename, force=False):\n",
    "  root = os.path.splitext(os.path.splitext(filename)[0])[0]  # remove .tar.gz\n",
    "  if os.path.isdir(root) and not force:\n",
    "    # You may override by setting force=True.\n",
    "    print('%s already present - Skipping extraction of %s.' % (root, filename))\n",
    "  else:\n",
    "    print('Extracting data for %s. This may take a while. Please wait.' % root)\n",
    "    tar = tarfile.open(filename)\n",
    "    sys.stdout.flush()\n",
    "    tar.extractall(data_root)\n",
    "    tar.close()\n",
    "    \n",
    "  data_folders = [\n",
    "    os.path.join(root, d) for d in sorted(os.listdir(root))\n",
    "    if os.path.isdir(os.path.join(root, d))]\n",
    "\n",
    "  if len(data_folders) != num_classes:\n",
    "    raise Exception(\n",
    "      'Expected %d folders, one per class. Found %d instead.' % (\n",
    "        num_classes, len(data_folders)))\n",
    "  #print(data_folders)\n",
    "\n",
    "  print( 'data_folders: {0} \\n'.format( data_folders ) )\n",
    "\n",
    "  return data_folders\n",
    "  \n",
    "train_folders = maybe_extract( train_filename )\n",
    "test_folders  = maybe_extract( test_filename  )\n",
    "\n",
    "print( '\\n\\n extraction... finished. \\n\\n' )\n",
    "\n",
    "# print time to complete this cell\n",
    "endTime     = time.time()\n",
    "processTime = endTime - startTime\n",
    "#print ( 'processTime: {0} seconds'.format( processTime ) )\n",
    "print( 'processTime: {0}'.format( datetime.timedelta( seconds = processTime ) ) )\n"
   ]
  },
  {
   "cell_type": "markdown",
   "metadata": {},
   "source": [
    "#### print - extract vars"
   ]
  },
  {
   "cell_type": "code",
   "execution_count": 6,
   "metadata": {},
   "outputs": [
    {
     "name": "stdout",
     "output_type": "stream",
     "text": [
      "um_classes     :10\n",
      "np.random.seed :<built-in method seed of mtrand.RandomState object at 0x00000239CC7D4828> \n",
      "\n",
      "train_folders  : \n",
      "['.\\\\notMNIST_large\\\\A', '.\\\\notMNIST_large\\\\B', '.\\\\notMNIST_large\\\\C', '.\\\\notMNIST_large\\\\D', '.\\\\notMNIST_large\\\\E', '.\\\\notMNIST_large\\\\F', '.\\\\notMNIST_large\\\\G', '.\\\\notMNIST_large\\\\H', '.\\\\notMNIST_large\\\\I', '.\\\\notMNIST_large\\\\J'] \n",
      "\n",
      "test_folders   : \n",
      "['.\\\\notMNIST_small\\\\A', '.\\\\notMNIST_small\\\\B', '.\\\\notMNIST_small\\\\C', '.\\\\notMNIST_small\\\\D', '.\\\\notMNIST_small\\\\E', '.\\\\notMNIST_small\\\\F', '.\\\\notMNIST_small\\\\G', '.\\\\notMNIST_small\\\\H', '.\\\\notMNIST_small\\\\I', '.\\\\notMNIST_small\\\\J'] \n",
      "\n"
     ]
    }
   ],
   "source": [
    "print( 'um_classes     :{0}'.format( num_classes     ) )\n",
    "print( 'np.random.seed :{0} \\n'.format( np.random.seed ) )\n",
    "\n",
    "print( 'train_folders  : \\n{0} \\n'.format( train_folders ) )\n",
    "print( 'test_folders   : \\n{0} \\n'.format( test_folders  ) )"
   ]
  },
  {
   "cell_type": "markdown",
   "metadata": {},
   "source": [
    "## Problem 1\n",
    "Let's take a peek at some of the data to make sure it looks sensible. Each exemplar should be an image of a character A through J rendered in a different font. Display a sample of the images that we just downloaded. Hint: you can use the package IPython.display.\n",
    "\n",
    "\n"
   ]
  },
  {
   "cell_type": "markdown",
   "metadata": {},
   "source": [
    "#### problem 1 - solution"
   ]
  },
  {
   "cell_type": "code",
   "execution_count": 7,
   "metadata": {},
   "outputs": [
    {
     "name": "stdout",
     "output_type": "stream",
     "text": [
      "./notMNIST_large/A/a29ydW5pc2hpLnR0Zg==.png\n"
     ]
    },
    {
     "data": {
      "image/png": "[encoded data removed]",
      "text/plain": [
       "<IPython.core.display.Image object>"
      ]
     },
     "execution_count": 7,
     "metadata": {},
     "output_type": "execute_result"
    }
   ],
   "source": [
    "from IPython.display import Image\n",
    "\n",
    "#file_name = 'C:/Users/a.alatriste.trujillo/dl_udacity/notMNIST_small/A/MDEtMDEtMDAudHRm.png'\n",
    "file_name = './notMNIST_large/A/a29ydW5pc2hpLnR0Zg==.png'\n",
    "\n",
    "print( file_name )\n",
    "Image(filename= file_name ) \n"
   ]
  },
  {
   "cell_type": "markdown",
   "metadata": {},
   "source": [
    "#### print one image for each folder"
   ]
  },
  {
   "cell_type": "code",
   "execution_count": 8,
   "metadata": {
    "collapsed": true
   },
   "outputs": [],
   "source": [
    "def get_file_paths( folder ):\n",
    "                      \n",
    "    for i in folder:\n",
    "\n",
    "        # set directory path\n",
    "        _dir = i.replace( '\\\\', '/' ).replace( './/', '' )\n",
    "\n",
    "        first_file = listdir( _dir )[0]\n",
    "        \n",
    "        # set file path\n",
    "        file_name = join( _dir, first_file ).replace( '\\\\', '/' )\n",
    "        print( file_name )\n",
    "        \n",
    "        # display image\n",
    "        im = PIL.Image.open( file_name )\n",
    "        display( Image( filename = im.filename, retina = True ) )\n"
   ]
  },
  {
   "cell_type": "code",
   "execution_count": 9,
   "metadata": {},
   "outputs": [
    {
     "name": "stdout",
     "output_type": "stream",
     "text": [
      "./notMNIST_large/A/a29ydW5pc2hpLnR0Zg==.png\n"
     ]
    },
    {
     "data": {
      "image/png": "[encoded data removed]",
      "text/plain": [
       "<IPython.core.display.Image object>"
      ]
     },
     "metadata": {
      "image/png": {
       "height": 14,
       "width": 14
      }
     },
     "output_type": "display_data"
    },
    {
     "name": "stdout",
     "output_type": "stream",
     "text": [
      "./notMNIST_large/B/a29ydW5pc2hpLnR0Zg==.png\n"
     ]
    },
    {
     "data": {
      "image/png": "[encoded data removed]",
      "text/plain": [
       "<IPython.core.display.Image object>"
      ]
     },
     "metadata": {
      "image/png": {
       "height": 14,
       "width": 14
      }
     },
     "output_type": "display_data"
    },
    {
     "name": "stdout",
     "output_type": "stream",
     "text": [
      "./notMNIST_large/C/a29ydW5pc2hpLnR0Zg==.png\n"
     ]
    },
    {
     "data": {
      "image/png": "[encoded data removed]",
      "text/plain": [
       "<IPython.core.display.Image object>"
      ]
     },
     "metadata": {
      "image/png": {
       "height": 14,
       "width": 14
      }
     },
     "output_type": "display_data"
    },
    {
     "name": "stdout",
     "output_type": "stream",
     "text": [
      "./notMNIST_large/D/a29ydW5pc2hpLnR0Zg==.png\n"
     ]
    },
    {
     "data": {
      "image/png": "[encoded data removed]",
      "text/plain": [
       "<IPython.core.display.Image object>"
      ]
     },
     "metadata": {
      "image/png": {
       "height": 14,
       "width": 14
      }
     },
     "output_type": "display_data"
    },
    {
     "name": "stdout",
     "output_type": "stream",
     "text": [
      "./notMNIST_large/E/a29ydW5pc2hpLnR0Zg==.png\n"
     ]
    },
    {
     "data": {
      "image/png": "[encoded data removed]",
      "text/plain": [
       "<IPython.core.display.Image object>"
      ]
     },
     "metadata": {
      "image/png": {
       "height": 14,
       "width": 14
      }
     },
     "output_type": "display_data"
    },
    {
     "name": "stdout",
     "output_type": "stream",
     "text": [
      "./notMNIST_large/F/a29ydW5pc2hpLnR0Zg==.png\n"
     ]
    },
    {
     "data": {
      "image/png": "[encoded data removed]",
      "text/plain": [
       "<IPython.core.display.Image object>"
      ]
     },
     "metadata": {
      "image/png": {
       "height": 14,
       "width": 14
      }
     },
     "output_type": "display_data"
    },
    {
     "name": "stdout",
     "output_type": "stream",
     "text": [
      "./notMNIST_large/G/a29ydW5pc2hpLnR0Zg==.png\n"
     ]
    },
    {
     "data": {
      "image/png": "[encoded data removed]",
      "text/plain": [
       "<IPython.core.display.Image object>"
      ]
     },
     "metadata": {
      "image/png": {
       "height": 14,
       "width": 14
      }
     },
     "output_type": "display_data"
    },
    {
     "name": "stdout",
     "output_type": "stream",
     "text": [
      "./notMNIST_large/H/a29ydW5pc2hpLnR0Zg==.png\n"
     ]
    },
    {
     "data": {
      "image/png": "[encoded data removed]",
      "text/plain": [
       "<IPython.core.display.Image object>"
      ]
     },
     "metadata": {
      "image/png": {
       "height": 14,
       "width": 14
      }
     },
     "output_type": "display_data"
    },
    {
     "name": "stdout",
     "output_type": "stream",
     "text": [
      "./notMNIST_large/I/a29ydW5pc2hpLnR0Zg==.png\n"
     ]
    },
    {
     "data": {
      "image/png": "[encoded data removed]",
      "text/plain": [
       "<IPython.core.display.Image object>"
      ]
     },
     "metadata": {
      "image/png": {
       "height": 14,
       "width": 14
      }
     },
     "output_type": "display_data"
    },
    {
     "name": "stdout",
     "output_type": "stream",
     "text": [
      "./notMNIST_large/J/a29ydW5pc2hpLnR0Zg==.png\n"
     ]
    },
    {
     "data": {
      "image/png": "[encoded data removed]",
      "text/plain": [
       "<IPython.core.display.Image object>"
      ]
     },
     "metadata": {
      "image/png": {
       "height": 14,
       "width": 14
      }
     },
     "output_type": "display_data"
    }
   ],
   "source": [
    "get_file_paths( train_folders )"
   ]
  },
  {
   "cell_type": "code",
   "execution_count": 10,
   "metadata": {},
   "outputs": [
    {
     "name": "stdout",
     "output_type": "stream",
     "text": [
      "./notMNIST_small/A/MDEtMDEtMDAudHRm.png\n"
     ]
    },
    {
     "data": {
      "image/png": "[encoded data removed]",
      "text/plain": [
       "<IPython.core.display.Image object>"
      ]
     },
     "metadata": {
      "image/png": {
       "height": 14,
       "width": 14
      }
     },
     "output_type": "display_data"
    },
    {
     "name": "stdout",
     "output_type": "stream",
     "text": [
      "./notMNIST_small/B/MDEtMDEtMDAudHRm.png\n"
     ]
    },
    {
     "data": {
      "image/png": "[encoded data removed]",
      "text/plain": [
       "<IPython.core.display.Image object>"
      ]
     },
     "metadata": {
      "image/png": {
       "height": 14,
       "width": 14
      }
     },
     "output_type": "display_data"
    },
    {
     "name": "stdout",
     "output_type": "stream",
     "text": [
      "./notMNIST_small/C/MDEtMDEtMDAudHRm.png\n"
     ]
    },
    {
     "data": {
      "image/png": "[encoded data removed]",
      "text/plain": [
       "<IPython.core.display.Image object>"
      ]
     },
     "metadata": {
      "image/png": {
       "height": 14,
       "width": 14
      }
     },
     "output_type": "display_data"
    },
    {
     "name": "stdout",
     "output_type": "stream",
     "text": [
      "./notMNIST_small/D/MDEtMDEtMDAudHRm.png\n"
     ]
    },
    {
     "data": {
      "image/png": "[encoded data removed]",
      "text/plain": [
       "<IPython.core.display.Image object>"
      ]
     },
     "metadata": {
      "image/png": {
       "height": 14,
       "width": 14
      }
     },
     "output_type": "display_data"
    },
    {
     "name": "stdout",
     "output_type": "stream",
     "text": [
      "./notMNIST_small/E/MDEtMDEtMDAudHRm.png\n"
     ]
    },
    {
     "data": {
      "image/png": "[encoded data removed]",
      "text/plain": [
       "<IPython.core.display.Image object>"
      ]
     },
     "metadata": {
      "image/png": {
       "height": 14,
       "width": 14
      }
     },
     "output_type": "display_data"
    },
    {
     "name": "stdout",
     "output_type": "stream",
     "text": [
      "./notMNIST_small/F/MDEtMDEtMDAudHRm.png\n"
     ]
    },
    {
     "data": {
      "image/png": "[encoded data removed]",
      "text/plain": [
       "<IPython.core.display.Image object>"
      ]
     },
     "metadata": {
      "image/png": {
       "height": 14,
       "width": 14
      }
     },
     "output_type": "display_data"
    },
    {
     "name": "stdout",
     "output_type": "stream",
     "text": [
      "./notMNIST_small/G/MDEtMDEtMDAudHRm.png\n"
     ]
    },
    {
     "data": {
      "image/png": "[encoded data removed]",
      "text/plain": [
       "<IPython.core.display.Image object>"
      ]
     },
     "metadata": {
      "image/png": {
       "height": 14,
       "width": 14
      }
     },
     "output_type": "display_data"
    },
    {
     "name": "stdout",
     "output_type": "stream",
     "text": [
      "./notMNIST_small/H/MDEtMDEtMDAudHRm.png\n"
     ]
    },
    {
     "data": {
      "image/png": "[encoded data removed]",
      "text/plain": [
       "<IPython.core.display.Image object>"
      ]
     },
     "metadata": {
      "image/png": {
       "height": 14,
       "width": 14
      }
     },
     "output_type": "display_data"
    },
    {
     "name": "stdout",
     "output_type": "stream",
     "text": [
      "./notMNIST_small/I/MDEtMDEtMDAudHRm.png\n"
     ]
    },
    {
     "data": {
      "image/png": "[encoded data removed]",
      "text/plain": [
       "<IPython.core.display.Image object>"
      ]
     },
     "metadata": {
      "image/png": {
       "height": 14,
       "width": 14
      }
     },
     "output_type": "display_data"
    },
    {
     "name": "stdout",
     "output_type": "stream",
     "text": [
      "./notMNIST_small/J/MDEtMDEtMDAudHRm.png\n"
     ]
    },
    {
     "data": {
      "image/png": "[encoded data removed]",
      "text/plain": [
       "<IPython.core.display.Image object>"
      ]
     },
     "metadata": {
      "image/png": {
       "height": 14,
       "width": 14
      }
     },
     "output_type": "display_data"
    }
   ],
   "source": [
    "get_file_paths( test_folders )"
   ]
  },
  {
   "cell_type": "code",
   "execution_count": null,
   "metadata": {
    "collapsed": true
   },
   "outputs": [],
   "source": []
  },
  {
   "cell_type": "code",
   "execution_count": null,
   "metadata": {
    "collapsed": true
   },
   "outputs": [],
   "source": []
  },
  {
   "cell_type": "markdown",
   "metadata": {},
   "source": [
    "---\n",
    "\n",
    "Now let's load the data in a more manageable format. Since, depending on your computer setup you might not be able to fit it all in memory, we'll load each class into a separate dataset, store them on disk and curate them independently. Later we'll merge them into a single dataset of manageable size.\n",
    "\n",
    "We'll convert the entire dataset into a 3D array (image index, x, y) of floating point values, normalized to have approximately zero mean and standard deviation ~0.5 to make training easier down the road.\n",
    "\n",
    "\n",
    "A few images might not be readable, we'll just skip them."
   ]
  },
  {
   "cell_type": "code",
   "execution_count": 11,
   "metadata": {
    "scrolled": true
   },
   "outputs": [
    {
     "name": "stdout",
     "output_type": "stream",
     "text": [
      ".\\notMNIST_large\\A.pickle already present - Skipping pickling.\n",
      ".\\notMNIST_large\\B.pickle already present - Skipping pickling.\n",
      ".\\notMNIST_large\\C.pickle already present - Skipping pickling.\n",
      ".\\notMNIST_large\\D.pickle already present - Skipping pickling.\n",
      ".\\notMNIST_large\\E.pickle already present - Skipping pickling.\n",
      ".\\notMNIST_large\\F.pickle already present - Skipping pickling.\n",
      ".\\notMNIST_large\\G.pickle already present - Skipping pickling.\n",
      ".\\notMNIST_large\\H.pickle already present - Skipping pickling.\n",
      ".\\notMNIST_large\\I.pickle already present - Skipping pickling.\n",
      ".\\notMNIST_large\\J.pickle already present - Skipping pickling.\n",
      ".\\notMNIST_small\\A.pickle already present - Skipping pickling.\n",
      ".\\notMNIST_small\\B.pickle already present - Skipping pickling.\n",
      ".\\notMNIST_small\\C.pickle already present - Skipping pickling.\n",
      ".\\notMNIST_small\\D.pickle already present - Skipping pickling.\n",
      ".\\notMNIST_small\\E.pickle already present - Skipping pickling.\n",
      ".\\notMNIST_small\\F.pickle already present - Skipping pickling.\n",
      ".\\notMNIST_small\\G.pickle already present - Skipping pickling.\n",
      ".\\notMNIST_small\\H.pickle already present - Skipping pickling.\n",
      ".\\notMNIST_small\\I.pickle already present - Skipping pickling.\n",
      ".\\notMNIST_small\\J.pickle already present - Skipping pickling.\n"
     ]
    }
   ],
   "source": [
    "image_size = 28  # Pixel width and height.\n",
    "pixel_depth = 255.0  # Number of levels per pixel.\n",
    "\n",
    "def load_letter(folder, min_num_images):\n",
    "  \"\"\"Load the data for a single letter label.\"\"\"\n",
    "  image_files = os.listdir(folder)\n",
    "  dataset = np.ndarray(shape=(len(image_files), image_size, image_size),\n",
    "                         dtype=np.float32)\n",
    "  print(folder)\n",
    "  num_images = 0\n",
    "  for image in image_files:\n",
    "    image_file = os.path.join(folder, image)\n",
    "    try:\n",
    "      image_data = (ndimage.imread(image_file).astype(float) - \n",
    "                    pixel_depth / 2) / pixel_depth\n",
    "      if image_data.shape != (image_size, image_size):\n",
    "        raise Exception('Unexpected image shape: %s' % str(image_data.shape))\n",
    "      dataset[num_images, :, :] = image_data\n",
    "      num_images = num_images + 1\n",
    "    except IOError as e:\n",
    "      print('Could not read:', image_file, ':', e, '- it\\'s ok, skipping.')\n",
    "    \n",
    "  dataset = dataset[0:num_images, :, :]\n",
    "  if num_images < min_num_images:\n",
    "    raise Exception('Many fewer images than expected: %d < %d' %\n",
    "                    (num_images, min_num_images))\n",
    "    \n",
    "  print('Full dataset tensor:', dataset.shape)\n",
    "  print('Mean:', np.mean(dataset))\n",
    "  print('Standard deviation:', np.std(dataset))\n",
    "  return dataset\n",
    "        \n",
    "def maybe_pickle(data_folders, min_num_images_per_class, force=False):\n",
    "  dataset_names = []\n",
    "  for folder in data_folders:\n",
    "    set_filename = folder + '.pickle'\n",
    "    dataset_names.append(set_filename)\n",
    "    if os.path.exists(set_filename) and not force:\n",
    "      # You may override by setting force=True.\n",
    "      print('%s already present - Skipping pickling.' % set_filename)\n",
    "    else:\n",
    "      print('Pickling %s.' % set_filename)\n",
    "      dataset = load_letter(folder, min_num_images_per_class)\n",
    "      try:\n",
    "        with open(set_filename, 'wb') as f:\n",
    "          pickle.dump(dataset, f, pickle.HIGHEST_PROTOCOL)\n",
    "      except Exception as e:\n",
    "        print('Unable to save data to', set_filename, ':', e)\n",
    "  \n",
    "  return dataset_names\n",
    "\n",
    "train_datasets = maybe_pickle(train_folders, 45000)\n",
    "test_datasets = maybe_pickle(test_folders, 1800)"
   ]
  },
  {
   "cell_type": "markdown",
   "metadata": {},
   "source": [
    "## Problem 2\n",
    "Let's verify that the data still looks good. Displaying a sample of the labels and images from the ndarray. Hint: you can use matplotlib.pyplot."
   ]
  },
  {
   "cell_type": "code",
   "execution_count": 12,
   "metadata": {
    "collapsed": true
   },
   "outputs": [],
   "source": [
    "import random\n",
    "import hashlib\n",
    "%matplotlib inline\n",
    "\n",
    "def disp_8_img(imgs, titles):\n",
    "  \"\"\"Display subplot with 8 images or less\"\"\"\n",
    "  for i, img in enumerate(imgs):\n",
    "    plt.subplot(2, 4, i+1)\n",
    "    plt.title(titles[i])\n",
    "    plt.axis('off')\n",
    "    plt.imshow(img)\n",
    "\n",
    "def disp_sample_pickles(data_folders):\n",
    "  folder = random.sample(data_folders, 1)\n",
    "  pickle_filename = ''.join(folder) + '.pickle'\n",
    "    \n",
    "  print( 'folder         : {0}'.format( folder ) )\n",
    "  print( 'pickle_filename: {0}'.format( pickle_filename ) )\n",
    "    \n",
    "  try:\n",
    "    with open(pickle_filename, 'rb') as f:\n",
    "      dataset = pickle.load(f)\n",
    "  except Exception as e:\n",
    "    print('Unable to read data from', pickle_filename, ':', e)\n",
    "    return\n",
    "  # display\n",
    "  plt.suptitle(''.join(folder)[-1])\n",
    "  for i, img in enumerate(random.sample(list(dataset), 8)):\n",
    "    plt.subplot(2, 4, i+1)\n",
    "    plt.axis('off')\n",
    "    plt.imshow(img)"
   ]
  },
  {
   "cell_type": "code",
   "execution_count": 13,
   "metadata": {},
   "outputs": [
    {
     "name": "stdout",
     "output_type": "stream",
     "text": [
      "folder         : ['.\\\\notMNIST_large\\\\I']\n",
      "pickle_filename: .\\notMNIST_large\\I.pickle\n"
     ]
    },
    {
     "data": {
      "image/png": "[encoded data removed]",
      "text/plain": [
       "<matplotlib.figure.Figure at 0x239cb1ba748>"
      ]
     },
     "metadata": {},
     "output_type": "display_data"
    }
   ],
   "source": [
    "disp_sample_pickles(train_folders)"
   ]
  },
  {
   "cell_type": "code",
   "execution_count": 14,
   "metadata": {},
   "outputs": [
    {
     "name": "stdout",
     "output_type": "stream",
     "text": [
      "folder         : ['.\\\\notMNIST_small\\\\B']\n",
      "pickle_filename: .\\notMNIST_small\\B.pickle\n"
     ]
    },
    {
     "data": {
      "image/png": "[encoded data removed]",
      "text/plain": [
       "<matplotlib.figure.Figure at 0x239ce54f710>"
      ]
     },
     "metadata": {},
     "output_type": "display_data"
    }
   ],
   "source": [
    "disp_sample_pickles(test_folders)"
   ]
  },
  {
   "cell_type": "markdown",
   "metadata": {},
   "source": [
    "## Problem 3\n",
    "Another check: we expect the data to be balanced across classes. Verify that."
   ]
  },
  {
   "cell_type": "code",
   "execution_count": 15,
   "metadata": {},
   "outputs": [
    {
     "name": "stdout",
     "output_type": "stream",
     "text": [
      "Number of images in  .\\notMNIST_large\\A  :  52909\n",
      "Number of images in  .\\notMNIST_large\\B  :  52911\n",
      "Number of images in  .\\notMNIST_large\\C  :  52912\n",
      "Number of images in  .\\notMNIST_large\\D  :  52911\n",
      "Number of images in  .\\notMNIST_large\\E  :  52912\n",
      "Number of images in  .\\notMNIST_large\\F  :  52912\n",
      "Number of images in  .\\notMNIST_large\\G  :  52912\n",
      "Number of images in  .\\notMNIST_large\\H  :  52912\n",
      "Number of images in  .\\notMNIST_large\\I  :  52912\n",
      "Number of images in  .\\notMNIST_large\\J  :  52911\n",
      "Number of images in  .\\notMNIST_small\\A  :  1872\n",
      "Number of images in  .\\notMNIST_small\\B  :  1873\n",
      "Number of images in  .\\notMNIST_small\\C  :  1873\n",
      "Number of images in  .\\notMNIST_small\\D  :  1873\n",
      "Number of images in  .\\notMNIST_small\\E  :  1873\n",
      "Number of images in  .\\notMNIST_small\\F  :  1872\n",
      "Number of images in  .\\notMNIST_small\\G  :  1872\n",
      "Number of images in  .\\notMNIST_small\\H  :  1872\n",
      "Number of images in  .\\notMNIST_small\\I  :  1872\n",
      "Number of images in  .\\notMNIST_small\\J  :  1872\n"
     ]
    }
   ],
   "source": [
    "def disp_number_images(data_folders):\n",
    "  for folder in data_folders:\n",
    "    pickle_filename = ''.join(folder) + '.pickle'\n",
    "    try:\n",
    "      with open(pickle_filename, 'rb') as f:\n",
    "        dataset = pickle.load(f)\n",
    "    except Exception as e:\n",
    "      print('Unable to read data from', pickle_filename, ':', e)\n",
    "      return\n",
    "    \n",
    "    print('Number of images in ', folder, ' : ', len(dataset))\n",
    "    \n",
    "disp_number_images(train_folders)\n",
    "disp_number_images(test_folders)"
   ]
  },
  {
   "cell_type": "markdown",
   "metadata": {},
   "source": [
    "Merge and prune the training data as needed. Depending on your computer setup, you might not be able to fit it all in memory, and you can tune train_size as needed. The labels will be stored into a separate array of integers 0 through 9.\n",
    "Also create a validation dataset for hyperparameter tuning."
   ]
  },
  {
   "cell_type": "code",
   "execution_count": 17,
   "metadata": {},
   "outputs": [
    {
     "name": "stdout",
     "output_type": "stream",
     "text": [
      "Training   : (200000, 28, 28) (200000,)\n",
      "Validation : (10000, 28, 28) (10000,)\n",
      "Testing    : (10000, 28, 28) (10000,)\n"
     ]
    }
   ],
   "source": [
    "def make_arrays(nb_rows, img_size):\n",
    "  if nb_rows:\n",
    "    dataset = np.ndarray((nb_rows, img_size, img_size), dtype=np.float32)\n",
    "    labels = np.ndarray(nb_rows, dtype=np.int32)\n",
    "  else:\n",
    "    dataset, labels = None, None\n",
    "  return dataset, labels\n",
    "\n",
    "def merge_datasets(pickle_files, train_size, valid_size=0):\n",
    "  num_classes = len(pickle_files)\n",
    "  valid_dataset, valid_labels = make_arrays(valid_size, image_size)\n",
    "  train_dataset, train_labels = make_arrays(train_size, image_size)\n",
    "  vsize_per_class = valid_size // num_classes\n",
    "  tsize_per_class = train_size // num_classes\n",
    "    \n",
    "  start_v, start_t = 0, 0\n",
    "  end_v, end_t = vsize_per_class, tsize_per_class\n",
    "  end_l = vsize_per_class+tsize_per_class\n",
    "  for label, pickle_file in enumerate(pickle_files):       \n",
    "    try:\n",
    "      with open(pickle_file, 'rb') as f:\n",
    "        letter_set = pickle.load(f)\n",
    "        # let's shuffle the letters to have random validation and training set\n",
    "        np.random.shuffle(letter_set)\n",
    "        if valid_dataset is not None:\n",
    "          valid_letter = letter_set[:vsize_per_class, :, :]\n",
    "          valid_dataset[start_v:end_v, :, :] = valid_letter\n",
    "          valid_labels[start_v:end_v] = label\n",
    "          start_v += vsize_per_class\n",
    "          end_v += vsize_per_class\n",
    "                    \n",
    "        train_letter = letter_set[vsize_per_class:end_l, :, :]\n",
    "        train_dataset[start_t:end_t, :, :] = train_letter\n",
    "        train_labels[start_t:end_t] = label\n",
    "        start_t += tsize_per_class\n",
    "        end_t += tsize_per_class\n",
    "    except Exception as e:\n",
    "      print('Unable to process data from', pickle_file, ':', e)\n",
    "      raise\n",
    "    \n",
    "  return valid_dataset, valid_labels, train_dataset, train_labels\n",
    "            \n",
    "            \n",
    "train_size = 200000\n",
    "valid_size = 10000\n",
    "test_size  = 10000\n",
    "\n",
    "valid_dataset, valid_labels, train_dataset, train_labels = merge_datasets(\n",
    "  train_datasets, train_size, valid_size)\n",
    "_, _, test_dataset, test_labels = merge_datasets(test_datasets, test_size)\n",
    "\n",
    "print( 'Training   :', train_dataset.shape, train_labels.shape)\n",
    "print( 'Validation :', valid_dataset.shape, valid_labels.shape)\n",
    "print( 'Testing    :', test_dataset.shape, test_labels.shape)"
   ]
  },
  {
   "cell_type": "markdown",
   "metadata": {},
   "source": [
    "Next, we'll randomize the data. It's important to have the labels well shuffled for the training and test distributions to match"
   ]
  },
  {
   "cell_type": "code",
   "execution_count": 19,
   "metadata": {},
   "outputs": [
    {
     "name": "stdout",
     "output_type": "stream",
     "text": [
      "permutation type: <class 'numpy.ndarray'>\n",
      "permutation type: <class 'numpy.ndarray'>\n",
      "permutation type: <class 'numpy.ndarray'>\n"
     ]
    }
   ],
   "source": [
    "def randomize(dataset, labels):\n",
    "  permutation = np.random.permutation(labels.shape[0])\n",
    "\n",
    "  print(  'permutation type: {0}'.format(  type( permutation ) ) )\n",
    "\n",
    "  shuffled_dataset = dataset[permutation,:,:]\n",
    "  shuffled_labels = labels[permutation]\n",
    "  return shuffled_dataset, shuffled_labels\n",
    "\n",
    "train_dataset, train_labels = randomize(train_dataset, train_labels)\n",
    "test_dataset , test_labels  = randomize(test_dataset, test_labels)\n",
    "valid_dataset, valid_labels = randomize(valid_dataset, valid_labels)"
   ]
  },
  {
   "cell_type": "markdown",
   "metadata": {},
   "source": [
    "## Problem 4\n",
    "\n",
    "\n",
    "Convince yourself that the data is still good after shuffling!\n",
    "\n",
    "---\n",
    "To be sure that the data are still fine after the merger and the randomization, I will select one item and display the image alongside the label. Note: 0 = A, 1 = B, 2 = C, 3 = D, 4 = E, 5 = F, 6 = G, 7 = H, 8 = I, 9 = J.\n"
   ]
  },
  {
   "cell_type": "code",
   "execution_count": 20,
   "metadata": {
    "collapsed": true
   },
   "outputs": [],
   "source": [
    "pretty_labels = {0: 'A', 1: 'B', 2: 'C', 3: 'D', 4: 'E', 5: 'F', 6: 'G', 7: 'H', 8: 'I', 9: 'J'}\n",
    "\n",
    "def disp_sample_dataset(dataset, labels):\n",
    "  items = random.sample(range(len(labels)), 8)\n",
    "  for i, item in enumerate(items):\n",
    "    plt.subplot(2, 4, i+1)\n",
    "    plt.axis('off')\n",
    "    plt.title(pretty_labels[labels[item]])\n",
    "    plt.imshow(dataset[item])"
   ]
  },
  {
   "cell_type": "code",
   "execution_count": 21,
   "metadata": {},
   "outputs": [
    {
     "data": {
      "image/png": "[encoded data removed]",
      "text/plain": [
       "<matplotlib.figure.Figure at 0x239cfb20be0>"
      ]
     },
     "metadata": {},
     "output_type": "display_data"
    }
   ],
   "source": [
    "disp_sample_dataset(train_dataset, train_labels)"
   ]
  },
  {
   "cell_type": "code",
   "execution_count": 22,
   "metadata": {},
   "outputs": [
    {
     "data": {
      "image/png": "[encoded data removed]",
      "text/plain": [
       "<matplotlib.figure.Figure at 0x239cfb20a58>"
      ]
     },
     "metadata": {},
     "output_type": "display_data"
    }
   ],
   "source": [
    "disp_sample_dataset(valid_dataset, valid_labels)"
   ]
  },
  {
   "cell_type": "code",
   "execution_count": 23,
   "metadata": {},
   "outputs": [
    {
     "data": {
      "image/png": "[encoded data removed]",
      "text/plain": [
       "<matplotlib.figure.Figure at 0x239ce753390>"
      ]
     },
     "metadata": {},
     "output_type": "display_data"
    }
   ],
   "source": [
    "disp_sample_dataset(test_dataset, test_labels)"
   ]
  },
  {
   "cell_type": "markdown",
   "metadata": {},
   "source": [
    "Finally, let's save the data for later reuse:"
   ]
  },
  {
   "cell_type": "code",
   "execution_count": 24,
   "metadata": {
    "collapsed": true
   },
   "outputs": [],
   "source": [
    "pickle_file = os.path.join(data_root, 'notMNIST.pickle')\n",
    "\n",
    "try:\n",
    "  f = open(pickle_file, 'wb')\n",
    "  save = {\n",
    "    'train_dataset': train_dataset,\n",
    "    'train_labels': train_labels,\n",
    "    'valid_dataset': valid_dataset,\n",
    "    'valid_labels': valid_labels,\n",
    "    'test_dataset': test_dataset,\n",
    "    'test_labels': test_labels,\n",
    "    }\n",
    "  pickle.dump(save, f, pickle.HIGHEST_PROTOCOL)\n",
    "  f.close()\n",
    "except Exception as e:\n",
    "  print('Unable to save data to', pickle_file, ':', e)\n",
    "  raise"
   ]
  },
  {
   "cell_type": "code",
   "execution_count": 25,
   "metadata": {},
   "outputs": [
    {
     "name": "stdout",
     "output_type": "stream",
     "text": [
      "Compressed pickle size: 690800506\n"
     ]
    }
   ],
   "source": [
    "statinfo = os.stat(pickle_file)\n",
    "print('Compressed pickle size:', statinfo.st_size)"
   ]
  },
  {
   "cell_type": "markdown",
   "metadata": {},
   "source": [
    "## Problem 5\n",
    "\n",
    "By construction, this dataset might contain a lot of overlapping samples, including training data that's also contained in the validation and test set! Overlap between training and test can skew the results if you expect to use your model in an environment where there is never an overlap, but are actually ok if you expect to see training samples recur when you use it. Measure how much overlap there is between training, validation and test samples.\n",
    "\n",
    "Optional questions:\n",
    "\n",
    "* What about near duplicates between datasets? (images that are almost identical)\n",
    "\n",
    "* Create a sanitized validation and test set, and compare your accuracy on those in subsequent assignments."
   ]
  },
  {
   "cell_type": "markdown",
   "metadata": {},
   "source": [
    "#### 5.1 overlap cases\n",
    "In this part, I will explore the datasets and understand better the overlap cases. There are overlaps, but there are also duplicates in the same dataset! Processing time is also critical. I will first use nested loops and matrix comparison, which is slow and then use hash function to accelerate and process the whole dataset."
   ]
  },
  {
   "cell_type": "code",
   "execution_count": 37,
   "metadata": {
    "collapsed": true
   },
   "outputs": [],
   "source": [
    "def display_overlap(overlap, source_dataset, target_dataset):\n",
    "  ##item = random.choice(overlap.keys())\n",
    "\n",
    "  item = random.choice( list( overlap.keys() ) )\n",
    "  \n",
    "  imgs = np.concatenate(([source_dataset[item]], target_dataset[overlap[item][0:7]]))\n",
    "  plt.suptitle(item)\n",
    "  for i, img in enumerate(imgs):\n",
    "    plt.subplot(2, 4, i+1)\n",
    "    plt.axis('off')\n",
    "    plt.imshow(img)"
   ]
  },
  {
   "cell_type": "code",
   "execution_count": 38,
   "metadata": {
    "collapsed": true
   },
   "outputs": [],
   "source": [
    "def extract_overlap(dataset_1, dataset_2):\n",
    "  overlap = {}\n",
    "  for i, img_1 in enumerate(dataset_1):\n",
    "    for j, img_2 in enumerate(dataset_2):     \n",
    "      if np.array_equal(img_1, img_2):\n",
    "        if not i in overlap.keys():\n",
    "          overlap[i] = []\n",
    "        overlap[i].append(j)\n",
    "  return overlap"
   ]
  },
  {
   "cell_type": "markdown",
   "metadata": {},
   "source": [
    "%time overlap_test_train = extract_overlap(test_dataset[:200], train_dataset)"
   ]
  },
  {
   "cell_type": "code",
   "execution_count": 39,
   "metadata": {
    "collapsed": true
   },
   "outputs": [],
   "source": [
    "overlap_test_train = extract_overlap(test_dataset[:200], train_dataset)"
   ]
  },
  {
   "cell_type": "code",
   "execution_count": 40,
   "metadata": {},
   "outputs": [
    {
     "name": "stdout",
     "output_type": "stream",
     "text": [
      "Number of overlaps: 35\n"
     ]
    },
    {
     "data": {
      "image/png": "[encoded data removed]",
      "text/plain": [
       "<matplotlib.figure.Figure at 0x239ce38fb38>"
      ]
     },
     "metadata": {},
     "output_type": "display_data"
    }
   ],
   "source": [
    "print( 'Number of overlaps:', len(overlap_test_train.keys()) )\n",
    "display_overlap(overlap_test_train, test_dataset[:200], train_dataset)"
   ]
  },
  {
   "cell_type": "markdown",
   "metadata": {
    "collapsed": true
   },
   "source": [
    "#### 5.2 Manhattan norm "
   ]
  },
  {
   "cell_type": "markdown",
   "metadata": {
    "collapsed": true
   },
   "source": [
    "The display_overlap function above display one of the duplicate, the first element is from the first dataset, and the next ones are from the dataset used for the comparison.\n",
    "\n",
    "Now that exact duplicates have been found, let's look for near duplicates. How to define near identical images? That's a tricky question. My first thought has been to use the allclose numpy matrix comparison. This is too restrictive, since two images can vary by one pyxel, and still be very similar even if the variation on the pyxel is large. A better solution involves some kind of average.\n",
    "\n",
    "To keep is simple and still relevant, I will use a Manhattan norm (sum of absolute values) of the difference matrix. Since the images of the dataset have all the same size, I will not normalize the norm value. Note that it is pyxel by pyxel comparison, and therefore it will not scale to the whole dataset, but it will help to understand image similarities."
   ]
  },
  {
   "cell_type": "code",
   "execution_count": 41,
   "metadata": {
    "collapsed": true
   },
   "outputs": [],
   "source": [
    "MAX_MANHATTAN_NORM = 10\n",
    "\n",
    "def extract_overlap_near(dataset_1, dataset_2):\n",
    "  overlap = {}\n",
    "  for i, img_1 in enumerate(dataset_1):\n",
    "    for j, img_2 in enumerate(dataset_2):\n",
    "      diff = img_1 - img_2\n",
    "      m_norm = np.sum(np.abs(diff))\n",
    "      if m_norm < MAX_MANHATTAN_NORM:\n",
    "        if not i in overlap.keys():\n",
    "          overlap[i] = []\n",
    "        overlap[i].append(j)\n",
    "  return overlap"
   ]
  },
  {
   "cell_type": "code",
   "execution_count": 42,
   "metadata": {},
   "outputs": [
    {
     "name": "stdout",
     "output_type": "stream",
     "text": [
      "Wall time: 5min 32s\n"
     ]
    }
   ],
   "source": [
    "%time overlap_test_train_near = extract_overlap_near(test_dataset[:200], train_dataset)"
   ]
  },
  {
   "cell_type": "code",
   "execution_count": 43,
   "metadata": {},
   "outputs": [
    {
     "name": "stdout",
     "output_type": "stream",
     "text": [
      "Number of near overlaps: 62\n"
     ]
    },
    {
     "data": {
      "image/png": "[encoded data removed]",
      "text/plain": [
       "<matplotlib.figure.Figure at 0x239ce726780>"
      ]
     },
     "metadata": {},
     "output_type": "display_data"
    }
   ],
   "source": [
    "print('Number of near overlaps:', len(overlap_test_train_near.keys()))\n",
    "display_overlap(overlap_test_train_near, test_dataset[:200], train_dataset)"
   ]
  },
  {
   "cell_type": "markdown",
   "metadata": {},
   "source": [
    "#### 5.3 performance ideas"
   ]
  },
  {
   "cell_type": "markdown",
   "metadata": {},
   "source": [
    "The techniques above work well, but the performance is very low and the methods are poorly scalable to the full dataset. Let's try to improve the performance. Let's take some reference times on a small dataset.\n",
    "Here are some ideas:\n",
    "\n",
    "* stop a the first occurence\n",
    "* nympy function where in diff dataset\n",
    "* hash comparison"
   ]
  },
  {
   "cell_type": "code",
   "execution_count": 44,
   "metadata": {
    "collapsed": true
   },
   "outputs": [],
   "source": [
    "def extract_overlap_stop(dataset_1, dataset_2):\n",
    "  overlap = {}\n",
    "  for i, img_1 in enumerate(dataset_1):\n",
    "    for j, img_2 in enumerate(dataset_2):     \n",
    "      if np.array_equal(img_1, img_2):\n",
    "        overlap[i] = [j]\n",
    "        break\n",
    "  return overlap"
   ]
  },
  {
   "cell_type": "code",
   "execution_count": 45,
   "metadata": {},
   "outputs": [
    {
     "name": "stdout",
     "output_type": "stream",
     "text": [
      "Wall time: 3min 1s\n"
     ]
    }
   ],
   "source": [
    "%time overlap_test_train = extract_overlap_stop(test_dataset[:200], train_dataset)"
   ]
  },
  {
   "cell_type": "code",
   "execution_count": 46,
   "metadata": {},
   "outputs": [
    {
     "name": "stdout",
     "output_type": "stream",
     "text": [
      "Number of overlaps: 35\n"
     ]
    },
    {
     "data": {
      "image/png": "[encoded data removed]",
      "text/plain": [
       "<matplotlib.figure.Figure at 0x239cea024e0>"
      ]
     },
     "metadata": {},
     "output_type": "display_data"
    }
   ],
   "source": [
    "print('Number of overlaps:', len(overlap_test_train.keys()))\n",
    "display_overlap(overlap_test_train, test_dataset[:200], train_dataset)"
   ]
  },
  {
   "cell_type": "markdown",
   "metadata": {},
   "source": [
    "It is a faster, and only one duplicate from the second dataset is displayed. This is still not scalable."
   ]
  },
  {
   "cell_type": "markdown",
   "metadata": {
    "collapsed": true
   },
   "source": [
    "#### 5.4 numpy function"
   ]
  },
  {
   "cell_type": "code",
   "execution_count": 47,
   "metadata": {
    "collapsed": true
   },
   "outputs": [],
   "source": [
    "MAX_MANHATTAN_NORM = 10\n",
    "\n",
    "def extract_overlap_where(dataset_1, dataset_2):\n",
    "  overlap = {}\n",
    "  for i, img_1 in enumerate(dataset_1):\n",
    "    diff = dataset_2 - img_1\n",
    "    norm = np.sum(np.abs(diff), axis=1)\n",
    "    duplicates = np.where(norm < MAX_MANHATTAN_NORM)\n",
    "    if len(duplicates[0]):\n",
    "      overlap[i] = duplicates[0]\n",
    "  return overlap"
   ]
  },
  {
   "cell_type": "code",
   "execution_count": 48,
   "metadata": {},
   "outputs": [
    {
     "name": "stdout",
     "output_type": "stream",
     "text": [
      "Wall time: 2min 32s\n"
     ]
    }
   ],
   "source": [
    "test_flat = test_dataset.reshape(test_dataset.shape[0], 28 * 28)\n",
    "train_flat = train_dataset.reshape(train_dataset.shape[0], 28 * 28)\n",
    "%time overlap_test_train = extract_overlap_where(test_flat[:200], train_flat)"
   ]
  },
  {
   "cell_type": "code",
   "execution_count": 49,
   "metadata": {},
   "outputs": [
    {
     "name": "stdout",
     "output_type": "stream",
     "text": [
      "Number of overlaps: 62\n"
     ]
    },
    {
     "data": {
      "image/png": "[encoded data removed]",
      "text/plain": [
       "<matplotlib.figure.Figure at 0x239ce8d5898>"
      ]
     },
     "metadata": {},
     "output_type": "display_data"
    }
   ],
   "source": [
    "print('Number of overlaps:', len(overlap_test_train.keys()))\n",
    "display_overlap(overlap_test_train, test_dataset[:200], train_dataset)"
   ]
  },
  {
   "cell_type": "markdown",
   "metadata": {},
   "source": [
    "#### 5.5. Hash Function"
   ]
  },
  {
   "cell_type": "markdown",
   "metadata": {},
   "source": [
    "The built-in numpy function provides some improvement either, but this algorithm is still not scalable to the dataset to its full extend.\n",
    "\n",
    "To make it work at scale, the best option is to use a hash function. To find exact duplicates, the hash functions used for the cryptography will work just fine."
   ]
  },
  {
   "cell_type": "code",
   "execution_count": 50,
   "metadata": {
    "collapsed": true
   },
   "outputs": [],
   "source": [
    "def extract_overlap_hash(dataset_1, dataset_2):\n",
    "  dataset_hash_1 = [hashlib.sha256(img).hexdigest() for img in dataset_1]\n",
    "  dataset_hash_2 = [hashlib.sha256(img).hexdigest() for img in dataset_2]\n",
    "  overlap = {}\n",
    "  for i, hash1 in enumerate(dataset_hash_1):\n",
    "    for j, hash2 in enumerate(dataset_hash_2):\n",
    "      if hash1 == hash2:\n",
    "        if not i in overlap.keys():\n",
    "          overlap[i] = []\n",
    "        overlap[i].append(j) ## use np.where\n",
    "  return overlap"
   ]
  },
  {
   "cell_type": "code",
   "execution_count": 51,
   "metadata": {},
   "outputs": [
    {
     "name": "stdout",
     "output_type": "stream",
     "text": [
      "Wall time: 4.95 s\n"
     ]
    }
   ],
   "source": [
    "%time overlap_test_train = extract_overlap_hash(test_dataset[:200], train_dataset)"
   ]
  },
  {
   "cell_type": "code",
   "execution_count": 52,
   "metadata": {},
   "outputs": [
    {
     "name": "stdout",
     "output_type": "stream",
     "text": [
      "Number of overlaps: 35\n"
     ]
    },
    {
     "data": {
      "image/png": "[encoded data removed]",
      "text/plain": [
       "<matplotlib.figure.Figure at 0x239ce8b4898>"
      ]
     },
     "metadata": {},
     "output_type": "display_data"
    }
   ],
   "source": [
    "print('Number of overlaps:', len(overlap_test_train.keys()))\n",
    "display_overlap(overlap_test_train, test_dataset[:200], train_dataset)"
   ]
  },
  {
   "cell_type": "markdown",
   "metadata": {
    "collapsed": true
   },
   "source": [
    "More overlapping values could be found, this is due to the hash collisions. Several images can have the same hash but are actually different differents. This is not noticed here, and even if it happens, this is acceptable. All duplicates will be removed for sure."
   ]
  },
  {
   "cell_type": "markdown",
   "metadata": {
    "collapsed": true
   },
   "source": [
    "#### 5.6 faster using numpy where\n",
    "\n",
    "We can make the processing a but faster by using the built-in numpy where function."
   ]
  },
  {
   "cell_type": "code",
   "execution_count": 53,
   "metadata": {
    "collapsed": true
   },
   "outputs": [],
   "source": [
    "def extract_overlap_hash_where(dataset_1, dataset_2):\n",
    "  dataset_hash_1 = np.array([hashlib.sha256(img).hexdigest() for img in dataset_1])\n",
    "  dataset_hash_2 = np.array([hashlib.sha256(img).hexdigest() for img in dataset_2])\n",
    "  overlap = {}\n",
    "  for i, hash1 in enumerate(dataset_hash_1):\n",
    "    duplicates = np.where(dataset_hash_2 == hash1)\n",
    "    if len(duplicates[0]):\n",
    "      overlap[i] = duplicates[0]\n",
    "  return overlap"
   ]
  },
  {
   "cell_type": "code",
   "execution_count": 54,
   "metadata": {},
   "outputs": [
    {
     "name": "stdout",
     "output_type": "stream",
     "text": [
      "Wall time: 3.4 s\n"
     ]
    }
   ],
   "source": [
    "%time overlap_test_train = extract_overlap_hash_where(test_dataset[:200], train_dataset)"
   ]
  },
  {
   "cell_type": "code",
   "execution_count": 68,
   "metadata": {},
   "outputs": [],
   "source": [
    "def display_overlap_2(overlap, source_dataset, target_dataset):\n",
    "  item = random.choice( list( overlap.keys() ) )\n",
    "  print( '\\n item: {0} '.format( item ) )\n",
    "  print( '\\n value: {0} '.format( overlap[ item ] ) )  \n",
    "\n",
    "  imgs = np.concatenate(([source_dataset[item]], target_dataset[overlap[item][0:7]]))\n",
    "  plt.suptitle(item)\n",
    "  for i, img in enumerate(imgs):\n",
    "    plt.subplot(2, 4, i+1)\n",
    "    plt.axis('off')\n",
    "    plt.imshow(img)"
   ]
  },
  {
   "cell_type": "code",
   "execution_count": 69,
   "metadata": {},
   "outputs": [
    {
     "name": "stdout",
     "output_type": "stream",
     "text": [
      "Number of overlaps: 35\n",
      "{5: array([     0,     20,    209, ..., 199808, 199853, 199910], dtype=int64), 15: array([85728], dtype=int64), 17: array([24087], dtype=int64), 31: array([     0,     20,    209, ..., 199808, 199853, 199910], dtype=int64), 37: array([117533], dtype=int64), 39: array([4409], dtype=int64), 45: array([6160], dtype=int64), 61: array([69192], dtype=int64), 66: array([ 16400,  20210, 131432, 190167], dtype=int64), 67: array([154512], dtype=int64), 77: array([186669], dtype=int64), 78: array([ 64666,  98173, 178812], dtype=int64), 79: array([19811], dtype=int64), 82: array([173889], dtype=int64), 103: array([142243], dtype=int64), 104: array([15918], dtype=int64), 108: array([35985], dtype=int64), 110: array([111314], dtype=int64), 111: array([177742], dtype=int64), 114: array([27152], dtype=int64), 115: array([142133], dtype=int64), 126: array([115246], dtype=int64), 146: array([84571], dtype=int64), 150: array([     0,     20,    209, ..., 199808, 199853, 199910], dtype=int64), 151: array([9522], dtype=int64), 162: array([62072], dtype=int64), 164: array([12604], dtype=int64), 165: array([37683], dtype=int64), 169: array([115636], dtype=int64), 174: array([3], dtype=int64), 177: array([184275], dtype=int64), 185: array([106363], dtype=int64), 186: array([6225], dtype=int64), 190: array([71863, 86668], dtype=int64), 196: array([22522], dtype=int64)}\n",
      "\n",
      " item: 196 \n",
      "\n",
      " value: [22522] \n"
     ]
    },
    {
     "data": {
      "image/png": "[encoded data removed]",
      "text/plain": [
       "<matplotlib.figure.Figure at 0x239ce4c8978>"
      ]
     },
     "metadata": {},
     "output_type": "display_data"
    }
   ],
   "source": [
    "print('Number of overlaps:', len(overlap_test_train.keys()))\n",
    "\n",
    "\n",
    "print( overlap_test_train )\n",
    "\n",
    "display_overlap_2(overlap_test_train, test_dataset[:200], train_dataset)"
   ]
  },
  {
   "cell_type": "markdown",
   "metadata": {},
   "source": [
    "From my perspective near duplicates should also be removed in the sanitized datasets. My assumption is that \"near\" duplicates are very very close (sometimes just there is a one pyxel border of difference), and penalyze the training the same way the true duplicates do."
   ]
  },
  {
   "cell_type": "markdown",
   "metadata": {},
   "source": [
    "#### 5.7. Near duplicates"
   ]
  },
  {
   "cell_type": "markdown",
   "metadata": {},
   "source": [
    "That's being said, finding near duplicates with a hash function is not obvious. There are techniques for that, like \"locally sensitive hashing\", \"perceptual hashing\" or \"difference hashing\". There even are Python library available. Unfortunatly I did not have time to try them. The sanitized dataset generated below are based on true duplicates found with a cryptography hash function.\n",
    "\n",
    "For sanitizing the dataset, I change the function above by returning the clean dataset directly."
   ]
  },
  {
   "cell_type": "code",
   "execution_count": 70,
   "metadata": {
    "collapsed": true
   },
   "outputs": [],
   "source": [
    "def sanetize(dataset_1, dataset_2, labels_1):\n",
    "  dataset_hash_1 = np.array([hashlib.sha256(img).hexdigest() for img in dataset_1])\n",
    "  dataset_hash_2 = np.array([hashlib.sha256(img).hexdigest() for img in dataset_2])\n",
    "  overlap = [] # list of indexes\n",
    "  for i, hash1 in enumerate(dataset_hash_1):\n",
    "    duplicates = np.where(dataset_hash_2 == hash1)\n",
    "    if len(duplicates[0]):\n",
    "      overlap.append(i) \n",
    "  return np.delete(dataset_1, overlap, 0), np.delete(labels_1, overlap, None)"
   ]
  },
  {
   "cell_type": "code",
   "execution_count": 71,
   "metadata": {},
   "outputs": [
    {
     "name": "stdout",
     "output_type": "stream",
     "text": [
      "Wall time: 4.59 s\n",
      "Overlapping images removed:  35\n"
     ]
    }
   ],
   "source": [
    "%time test_dataset_sanit, test_labels_sanit = sanetize(test_dataset[:200], train_dataset, test_labels[:200])\n",
    "print('Overlapping images removed: ', len(test_dataset[:200]) - len(test_dataset_sanit))"
   ]
  },
  {
   "cell_type": "code",
   "execution_count": 72,
   "metadata": {},
   "outputs": [
    {
     "name": "stdout",
     "output_type": "stream",
     "text": [
      "Wall time: 59.9 s\n",
      "Overlapping images removed:  1301\n"
     ]
    }
   ],
   "source": [
    "%time test_dataset_sanit, test_labels_sanit = sanetize(test_dataset, train_dataset, test_labels)\n",
    "print('Overlapping images removed: ', len(test_dataset) - len(test_dataset_sanit))"
   ]
  },
  {
   "cell_type": "code",
   "execution_count": 73,
   "metadata": {},
   "outputs": [
    {
     "name": "stdout",
     "output_type": "stream",
     "text": [
      "Wall time: 55.1 s\n",
      "Overlapping images removed:  1097\n"
     ]
    }
   ],
   "source": [
    "%time valid_dataset_sanit, valid_labels_sanit = sanetize(valid_dataset, train_dataset, valid_labels)\n",
    "print('Overlapping images removed: ', len(valid_dataset) - len(valid_dataset_sanit))"
   ]
  },
  {
   "cell_type": "markdown",
   "metadata": {},
   "source": [
    "#### save notMNIST_sanit.pickle"
   ]
  },
  {
   "cell_type": "code",
   "execution_count": null,
   "metadata": {
    "collapsed": true
   },
   "outputs": [],
   "source": [
    "pickle_file_sanit = 'notMNIST_sanit.pickle'\n",
    "\n",
    "try:\n",
    "  f = open(pickle_file_sanit, 'wb')\n",
    "  save = {\n",
    "    'train_dataset': train_dataset,\n",
    "    'train_labels': train_labels,\n",
    "    'valid_dataset': valid_dataset_sanit,\n",
    "    'valid_labels': valid_labels_sanit,\n",
    "    'test_dataset': test_dataset_sanit,\n",
    "    'test_labels': test_labels_sanit,\n",
    "    }\n",
    "  pickle.dump(save, f, pickle.HIGHEST_PROTOCOL)\n",
    "  f.close()\n",
    "except Exception as e:\n",
    "  print('Unable to save data to', pickle_file, ':', e)\n",
    "  raise"
   ]
  },
  {
   "cell_type": "code",
   "execution_count": null,
   "metadata": {
    "collapsed": true
   },
   "outputs": [],
   "source": [
    "statinfo = os.stat(pickle_file_sanit)\n",
    "print('Compressed pickle size:', statinfo.st_size)"
   ]
  },
  {
   "cell_type": "markdown",
   "metadata": {},
   "source": [
    "Since I did not have time to generate clean sanitized datasets, I did not use the datasets generated above in the training of the my NN in the next assignments."
   ]
  },
  {
   "cell_type": "markdown",
   "metadata": {},
   "source": [
    "## Problem 6\n",
    "Let's get an idea of what an off-the-shelf classifier can give you on this data. It's always good to check that there is something to learn, and that it's a problem that is not so trivial that a canned solution solves it.\n",
    "\n",
    "Train a simple model on this data using 50, 100, 1000 and 5000 training samples. Hint: you can use the LogisticRegression model from sklearn.linear_model.\n",
    "\n",
    "Optional question: train an off-the-shelf model on all the data!"
   ]
  },
  {
   "cell_type": "code",
   "execution_count": null,
   "metadata": {
    "collapsed": true
   },
   "outputs": [],
   "source": []
  },
  {
   "cell_type": "code",
   "execution_count": null,
   "metadata": {
    "collapsed": true
   },
   "outputs": [],
   "source": []
  },
  {
   "cell_type": "code",
   "execution_count": null,
   "metadata": {
    "collapsed": true
   },
   "outputs": [],
   "source": []
  },
  {
   "cell_type": "code",
   "execution_count": null,
   "metadata": {
    "collapsed": true
   },
   "outputs": [],
   "source": []
  },
  {
   "cell_type": "markdown",
   "metadata": {},
   "source": [
    "#### references"
   ]
  },
  {
   "cell_type": "markdown",
   "metadata": {},
   "source": [
    "not MNIST dataset\n",
    "* http://yaroslavvb.blogspot.mx/2011/09/notmnist-dataset.html\n",
    "* http://yaroslavvb.com/upload/notMNIST/\n",
    " \n",
    "THE MNIST DATABASE\n",
    "* http://yann.lecun.com/exdb/mnist/\n",
    "\n",
    "Plotting multiple images\n",
    "* http://nbviewer.jupyter.org/gist/minrk/7076095\n",
    "\n",
    "other students\n",
    "* https://github.com/sdurgi17/udacity-deep-learning/blob/master/1_notmnist.ipynb\n",
    "\n",
    "* https://github.com/rndbrtrnd/udacity-deep-learning/blob/master/1_notmnist.ipynb"
   ]
  },
  {
   "cell_type": "code",
   "execution_count": null,
   "metadata": {
    "collapsed": true
   },
   "outputs": [],
   "source": []
  }
 ],
 "metadata": {
  "kernelspec": {
   "display_name": "Python 3",
   "language": "python",
   "name": "python3"
  },
  "language_info": {
   "codemirror_mode": {
    "name": "ipython",
    "version": 3
   },
   "file_extension": ".py",
   "mimetype": "text/x-python",
   "name": "python",
   "nbconvert_exporter": "python",
   "pygments_lexer": "ipython3",
   "version": "3.6.1"
  }
 },
 "nbformat": 4,
 "nbformat_minor": 2
}
